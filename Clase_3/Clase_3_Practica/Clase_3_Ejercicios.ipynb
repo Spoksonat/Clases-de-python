{
 "metadata": {
  "language_info": {
   "codemirror_mode": {
    "name": "ipython",
    "version": 3
   },
   "file_extension": ".py",
   "mimetype": "text/x-python",
   "name": "python",
   "nbconvert_exporter": "python",
   "pygments_lexer": "ipython3",
   "version": "3.7.4-final"
  },
  "orig_nbformat": 2,
  "kernelspec": {
   "name": "python3",
   "display_name": "Python 3"
  }
 },
 "nbformat": 4,
 "nbformat_minor": 2,
 "cells": [
  {
   "source": [
    "# Primer ejercicio"
   ],
   "cell_type": "markdown",
   "metadata": {}
  },
  {
   "cell_type": "code",
   "execution_count": null,
   "metadata": {},
   "outputs": [],
   "source": [
    "Siguiendo la lógica del primer ejemplo mostrado en la parte teórica, hacer una base de datos que contenga el nombre, teléfono, edad y sexo de por lo menos 10 personas de tu familia. Así mismo, dentro de la clase crear una función que permita asignar una nueva variable a cada persona (algo como el estado de cuenta en el primer ejemplo). Luego asignar un valor a esta variable para cada persona de la base de datos. La variable puede ser la que sea, ya sea color de cabello, color de ojos, comida favorita, etc..."
   ]
  },
  {
   "cell_type": "code",
   "execution_count": null,
   "metadata": {},
   "outputs": [],
   "source": [
    "import numpy as np \n",
    "import matplotlib.pyplot as plt \n",
    "\n",
    "# Desde acá comienza el código"
   ]
  },
  {
   "source": [
    "# Segundo ejercicio"
   ],
   "cell_type": "markdown",
   "metadata": {}
  },
  {
   "source": [
    "En este ejercicio se va a mejorar el segundo ejemplo mostrado en la parte teórica. Al final del segundo ejemplo los detalles de la gráfica aún están muy feos (las etiquetas de cada eje están muy pequeñas al igual que el título, no hay una rejilla de fondo,...). El primer paso es agregar a la gráfica los detalles  que quiera para que la gráfica se vea mucho mejor. El segundo paso es un poco más complejo. Al final del segundo ejemplo graficamos dos funciones al tiempo. Esto lo logramos haciendo que en vez de una función, como parámetro introdujeramos una lista o array con las funciones que deseabamos graficar:\n",
    "\n",
    "funciones = \\[f,g\\]\n",
    "\n",
    "Sin embargo no podemos así controlar fácilmente algunos parámetros de la línea que graficaremos, como su color, su estilo (linea continua, punteda, etc...). Algo que podemos hacer para contrarrestar esto es haciendo la lista de funciones un poco más \"elaborada\". Se propone que la lista de funciones ahora contenga las propiedades de cada línea y sea algo similar a lo siguiente:\n",
    "\n",
    "funciones = \\[\\[f,\"red\",\"grafica de f\"\\], \\[g,\"blue\",\"grafica de g\"\\]\\]\n",
    "\n",
    "Cada elemento de esta nueva lista es otra lista que contiene no solo a la función, sino el color de la línea y el label(descripción) de cada función. De esta forma, cuando se haga el for:"
   ],
   "cell_type": "markdown",
   "metadata": {}
  },
  {
   "cell_type": "code",
   "execution_count": null,
   "metadata": {},
   "outputs": [],
   "source": [
    "for funcion in funciones:"
   ]
  },
  {
   "source": [
    "No solo se puede obtener la función sino sus propiedades individuales de la siguiente forma:"
   ],
   "cell_type": "markdown",
   "metadata": {}
  },
  {
   "cell_type": "code",
   "execution_count": null,
   "metadata": {},
   "outputs": [],
   "source": [
    "for elemento in funciones:\n",
    "    funcion = elemento[0] # El primer parámetro de cada una de las listas contenidas dentro de la lista llamada \"funciones\" es la función\n",
    "    color = elemento[1] # El segundo es el color\n",
    "    descripcion = elemento[2] # El tercero es el label\n",
    "    plt.plot(x, funcion(x), color=color, label=descripcion)"
   ]
  },
  {
   "source": [
    "Para este segundo paso se requiere que se grafiquen tres funciones con sus parámetros individuales como se indicó, pero no solo poner color y descripción, sino agregar también otros parámetros extra, los que quiera (estilo de línea, por ejemplo). Las tres funciones pueden ser las que quiera (seno,coseno,logaritmo,etc...) para x desde 1 hasta 5. No olvidar agregar el cuadro de leyendas a la gráfica. "
   ],
   "cell_type": "markdown",
   "metadata": {}
  },
  {
   "cell_type": "code",
   "execution_count": 14,
   "metadata": {},
   "outputs": [],
   "source": [
    "import numpy as np \n",
    "import matplotlib.pyplot as plt \n",
    "\n",
    "# Desde acá comienza el código"
   ]
  },
  {
   "source": [
    "# Tercer ejercicio"
   ],
   "cell_type": "markdown",
   "metadata": {}
  },
  {
   "source": [
    "Vamos a hacer algo muy similar al tercer ejemplo visto en la parte teórica, solamente que no analizaremos un movimiento de caida libre sino que analizaremos una caida con fricción. La estructura de la clase va a ser prácticamente, salvo que las ecuaciones de movimiento cambiarán. En el caso de agregar fricción con el aire de un objeto, la ecuación de movimiento será: $$m \\ddot{y} = b \\dot{y}^2 - mg,$$ donde b es un numero positivo. Si separamos esta ecuación diferencial de segundo orden en dos de primer orden como en el ejemplo de la parte teórica, estas serían: $$v[i+1] = v[i] + \\Big(\\frac{b}{m}v[i]^2 - g\\Big)dt \\quad \\Rightarrow \\quad v(ahora) = v(antes) + \\Big(\\frac{b}{m}v(antes)^2 - g\\Big)*dt$$ y $$y[i+1] = y[i] + v[i]dt \\quad \\Rightarrow \\quad y(ahora) = y(antes) + v(antes)*dt.$$ Implementar estas ecuaciones de movimiento en su lugar correspondiente dentro de la clase, asumiendo m=1. Además, en la función de evolución (que es donde están las ecuaciones de movimiento) poner como parámetro de entrada el valor de b, además del de número de iteraciones. \n",
    "\n",
    "Con la clase ya hecha se deben crear tres proyectiles, cuyas condiciones iniciales serán, respectivamente $(y,v_y) = (1,1), (1,2), (1,3)$. Luego de creados los proyectiles, evolucionarlos en el tiempo con 1000 iteraciones y un valor de b para cada uno de $b= 9, 2$ y $1$ respectivamente. Finalmente hacer gráficas de y contra t y de velocidad contra t, similar a como en el ejemplo teórico."
   ],
   "cell_type": "markdown",
   "metadata": {}
  },
  {
   "cell_type": "code",
   "execution_count": null,
   "metadata": {},
   "outputs": [],
   "source": [
    "import numpy as np \n",
    "import matplotlib.pyplot as plt \n",
    "\n",
    "# Desde acá comienza el código"
   ]
  }
 ]
}