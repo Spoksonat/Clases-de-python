{
 "metadata": {
  "language_info": {
   "codemirror_mode": {
    "name": "ipython",
    "version": 3
   },
   "file_extension": ".py",
   "mimetype": "text/x-python",
   "name": "python",
   "nbconvert_exporter": "python",
   "pygments_lexer": "ipython3",
   "version": "3.7.6-final"
  },
  "orig_nbformat": 2,
  "kernelspec": {
   "name": "python3",
   "display_name": "Python 3",
   "metadata": {
    "interpreter": {
     "hash": "3330af2cf8719d1358d8430e4e6091803f3d5affd79cdc4567fcca07b9378e7f"
    }
   }
  }
 },
 "nbformat": 4,
 "nbformat_minor": 2,
 "cells": [
  {
   "source": [
    "## Primera Clase: Repaso"
   ],
   "cell_type": "markdown",
   "metadata": {}
  },
  {
   "source": [
    "### 1. Tipos de Variables"
   ],
   "cell_type": "markdown",
   "metadata": {}
  },
  {
   "source": [
    "En Python existen muchos tipos de variables. Entre las más usadas están las numéricas (Enteros int, decimales \"cortos\" double, decimales de punto flotante float,números complejos, etc), las cadenas de caracteres (strings), las listas, los arrays (vectores o matrices) y los diccionarios (aunque estos últimos no tanto). A continuación se explicarán un poco más a detalle. "
   ],
   "cell_type": "markdown",
   "metadata": {}
  },
  {
   "source": [
    "### 1.1 Variables numéricas"
   ],
   "cell_type": "markdown",
   "metadata": {}
  },
  {
   "source": [
    "Como se dijo antes, entre las variables numéricas que tiene Python se encuentran los enteros, decimales cortos y decimales de punto flotante. Generalmente en Python los double no son muy usados. Sin embargo los demás tipos de variables si. Para declarar estas variables no hay necesidad de determinar su tipo (como en C o C++), ya que Python automáticamente detecta el tipo de variable usado. Basta solamente con definir las variables, como se muestra a continuación:"
   ],
   "cell_type": "markdown",
   "metadata": {}
  },
  {
   "cell_type": "code",
   "execution_count": 52,
   "metadata": {
    "tags": []
   },
   "outputs": [
    {
     "output_type": "stream",
     "name": "stdout",
     "text": "<class 'int'> <class 'float'> <class 'complex'>\n"
    }
   ],
   "source": [
    "a = 5 # se declara un entero \n",
    "b = 10.1 # se declara un decimal de punto flotante float\n",
    "c = 1.5 + 2.3j # se declara un número complejo\n",
    "print(type(a), type(b), type(c)) # Se imprime el tipo de variable de a, b y c."
   ]
  },
  {
   "source": [
    "Como se observa, las variables a,b y c son un entero (int), un decimal de punto flotante (float) y un número complejo (complex)."
   ],
   "cell_type": "markdown",
   "metadata": {}
  },
  {
   "source": [
    "### Operaciones"
   ],
   "cell_type": "markdown",
   "metadata": {}
  },
  {
   "source": [
    "Las operaciones más conocidas entre variables numéricas son las usuales (suma, resta, multiplicación y división). Sin embargo hay algunas otras que Python nos puede proporcionar. Algunas operaciones son transformaciones entre las distintas variables numéricas, es decir, pasar de int a float, de float a complex, de complex a int, de float a int, etc. Otras pueden ser el módulo entre dos números, el valor absoluto, el complejo conjugado, entre otras. A continuación se muestran algunas operaciones explícitas. "
   ],
   "cell_type": "markdown",
   "metadata": {}
  },
  {
   "cell_type": "code",
   "execution_count": 53,
   "metadata": {
    "tags": []
   },
   "outputs": [
    {
     "output_type": "stream",
     "name": "stdout",
     "text": "El negativo de e\n-23.46555885\n\n\na más b\n7\n\n\na menos b\n-3\n\n\na multiplicado por c\n18\n\n\na dividido en b \n0.4\n\n\nConvierto el int 'a' en un float\n2.0\n\n\nConvierto el float 'd' en entero\n10\n\n\nConvierto el int 'a' en un complex con parte imaginaria cero\n(2+0j)\n\n\nConvierto el float 'd' en un complejo con parte real cero\n10.1j\n\n\nComplejo conjugado de h\n(8.4-8.8j)\n\n\nc modulo a (Residuo de la division entre c y a)\n1\n\n\nc elevado a la potencia a\n81\n\n\nc elevado a la potencia a...de nuevo\n81\n\n\nRedondear la variable 'e' a solo dos decimales\n23.47\n\n\n"
    }
   ],
   "source": [
    "a,b,c,d,e,f,g,h,i = 2, 5, 9, 10.1, 23.46555885, 98.3, 1.6+0.8j, 8.4+8.8j, 9.6+4.5j # se declaran variables al tiempo (3 int, 3 float y 3 complex)\n",
    "\n",
    "print(\"El negativo de e\")\n",
    "print(-e) # El negativo de e\n",
    "print(\"\\n\")\n",
    "\n",
    "print(\"a más b\")\n",
    "print(a+b) # a más b\n",
    "print(\"\\n\")\n",
    "\n",
    "print(\"a menos b\")\n",
    "print(a-b) # a menos b\n",
    "print(\"\\n\")\n",
    "\n",
    "print(\"a multiplicado por c\")\n",
    "print(a*c) # a multiplicado por c\n",
    "print(\"\\n\")\n",
    "\n",
    "print(\"a dividido en b \")\n",
    "print(a/b) # a dividido en b \n",
    "print(\"\\n\")\n",
    "\n",
    "print(\"Convierto el int 'a' en un float\")\n",
    "print(float(a)) # Convierto el int \"a\" en un float\n",
    "print(\"\\n\")\n",
    "\n",
    "print(\"Convierto el float 'd' en entero\")\n",
    "print(int(d)) # Convierto el float \"d\" en entero\n",
    "print(\"\\n\")\n",
    "\n",
    "print(\"Convierto el int 'a' en un complex con parte imaginaria cero\")\n",
    "print(complex(a,0)) # Convierto el int \"a\" en un complex con parte imaginaria cero\n",
    "print(\"\\n\")\n",
    "\n",
    "print(\"Convierto el float 'd' en un complejo con parte real cero\")\n",
    "print(complex(0,d)) # Convierto el float \"d\" en un complejo con parte real cero\n",
    "print(\"\\n\")\n",
    "\n",
    "print(\"Complejo conjugado de h\")\n",
    "print(h.conjugate()) # Complejo conjugado de h\n",
    "print(\"\\n\")\n",
    "\n",
    "print(\"c modulo a (Residuo de la division entre c y a)\")\n",
    "print(c % a) # c modulo a (Residuo de la division entre c y a)\n",
    "print(\"\\n\")\n",
    "\n",
    "print(\"c elevado a la potencia a\")\n",
    "print(pow(c,a)) # c elevado a la potencia a\n",
    "print(\"\\n\")\n",
    "\n",
    "print(\"c elevado a la potencia a...de nuevo\")\n",
    "print(c**a) # c elevado a la potencia a...de nuevo\n",
    "print(\"\\n\")\n",
    "\n",
    "print(\"Redondear la variable 'e' a solo dos decimales\")\n",
    "print(round(e,2)) # Redondear la variable \"e\" a solo dos decimales\n",
    "print(\"\\n\")"
   ]
  },
  {
   "source": [
    "Hay más operaciones entre variables numericas que pueden ser encontradas en http://www.python-ds.com/python-3-numeric-operations"
   ],
   "cell_type": "markdown",
   "metadata": {}
  },
  {
   "source": [
    "### 1.2 Cadenas de caracteres"
   ],
   "cell_type": "markdown",
   "metadata": {}
  },
  {
   "source": [
    "Otro tipo de variable interesante de explorar son las cadenas de caracteres, que vendrían siendo conjuntos de letras, numeros y algunos simbolos para formar palabras. Generalmente se usan para dar nombres a archivos, importarlos desde el computador, dar el titulo de una gráfica o de sus ejes, entre otras cosas. Para crear uno solo basta con declararlo de la siguiente manera:"
   ],
   "cell_type": "markdown",
   "metadata": {}
  },
  {
   "cell_type": "code",
   "execution_count": 3,
   "metadata": {
    "tags": []
   },
   "outputs": [
    {
     "output_type": "stream",
     "name": "stdout",
     "text": "Hola Mundo 123\n<class 'str'>\n"
    }
   ],
   "source": [
    "s = \"Hola Mundo 123\" # Se crea el string\n",
    "print(s) # Se imprime la cadena de caracteres \n",
    "print(type(s)) # Se imprime el tipo de variable de \"s\". Fijarse que es str."
   ]
  },
  {
   "source": [
    "### Operaciones"
   ],
   "cell_type": "markdown",
   "metadata": {}
  },
  {
   "source": [
    "Con strings se pueden realizar diversas operaciones, como las siguientes:"
   ],
   "cell_type": "markdown",
   "metadata": {}
  },
  {
   "cell_type": "code",
   "execution_count": 4,
   "metadata": {
    "tags": []
   },
   "outputs": [
    {
     "output_type": "stream",
     "name": "stdout",
     "text": "Suma de strings s1 y s3. Se pegan ambos strings \nHolaMundo\n\n\nSuma de strings s2 y s3. Se pegan ambos strings. Notar que el espacio se considera como otra 'letra' extra y queda en el resultado \nHola Mundo\n\n\nConvertir un número en string. Se imprime str(a) junto con el tipo de dato que es str(a) para observar que efectivamente str(a) es un string\n123.45 <class 'str'>\n\n\nSe suma s1 junto con a (convertido en string). Si se suma s1 directamente con 'a' saldrá un error porque no se pueden sumar strings con numeros directamente\nHola123.45\n\n\nSe imprime el string s1 desde su primera letra hasta la segunda\nHo\n\n\nSe imprime el string s1 desde su tercera letra hasta la última\nla\n\n\nSe imprime el string s3 desde su segunda letra hasta la cuarta. En general s3[i:j] retorna el string s3 desde la letra (o simbolo) i hasta el j-1. Recordar que los índices en Python van desde el cero, así que el indice 1 es la segunda letra y el índice 3 = 4-1 es la cuarta letra.\nund\n\n\nCuenta el numero de 'n' que hay en el string\n1\n\n\nPone todo el string en mayusculas\nMUNDO\n\n\nPone todo el string en minusculas\nmundo\n\n\nRetorna True o False dependiendo de si el string s3 empieza con el string 'Mun' \nTrue\n\n\nRetorna True o False dependiendo de si el string s3 termina con el string 'do' \nTrue\n\n\nEl string s5, que se compone de dos 'palabras' separadas por un espacio, se separa en una lista en donde cada componente de la lista es una de las palabras\n['Hola', 'Mundo']\n\n\nRetorna el numero de caracteres que tiene el string s5 (el espacio se cuenta como caracter)\n10\n\n\nUsar un índice negativo implica contar los caracteres de la lista de derecha a izquierda y no de izquierda a derecha como es de costumbre. De forma de s5[-1] es el último caracter del string, s5[-2] es el penúltimo, s5[-3] es el antepenúltimo y así sucesivamente\no\n\n\nnd\n"
    }
   ],
   "source": [
    "s1 = \"Hola\"\n",
    "s2 = \"Hola \"\n",
    "s3 = \"Mundo\"\n",
    "s4 = \"123\"\n",
    "s5 = \"Hola Mundo\"\n",
    "a = 123.45\n",
    "\n",
    "print(\"Suma de strings s1 y s3. Se pegan ambos strings \")\n",
    "print(s1 + s3) # Suma de strings s1 y s3. Se pegan ambos strings \n",
    "print(\"\\n\")\n",
    "\n",
    "print(\"Suma de strings s2 y s3. Se pegan ambos strings. Notar que el espacio se considera como otra 'letra' extra y queda en el resultado \")\n",
    "print(s2 + s3) # Suma de strings s2 y s3. Se pegan ambos strings. Notar que el espacio se considera como otra \"letra\" extra y queda en el resultado \n",
    "print(\"\\n\")\n",
    "\n",
    "print(\"Convertir un número en string. Se imprime str(a) junto con el tipo de dato que es str(a) para observar que efectivamente str(a) es un string\")\n",
    "print(str(a), type(str(a))) # Convertir un número en string. Se imprime str(a) junto con el tipo de dato que es str(a) para observar que efectivamente str(a) es un string\n",
    "print(\"\\n\")\n",
    "\n",
    "print(\"Se suma s1 junto con a (convertido en string). Si se suma s1 directamente con 'a' saldrá un error porque no se pueden sumar strings con numeros directamente\")\n",
    "print(s1 + str(a)) # Se suma s1 junto con a (convertido en string). Si se suma s1 directamente con \"a\" saldrá un error porque no se pueden sumar strings con numeros directamente\n",
    "print(\"\\n\")\n",
    "\n",
    "print(\"Se imprime el string s1 desde su primera letra hasta la segunda\")\n",
    "print(s1[:2]) # Se imprime el string s1 desde su primera letra hasta la segunda\n",
    "print(\"\\n\")\n",
    "\n",
    "print(\"Se imprime el string s1 desde su tercera letra hasta la última\")\n",
    "print(s1[2:]) # Se imprime el string s1 desde su tercera letra hasta la última\n",
    "print(\"\\n\")\n",
    "\n",
    "print(\"Se imprime el string s3 desde su segunda letra hasta la cuarta. En general s3[i:j] retorna el string s3 desde la letra (o simbolo) i hasta el j-1. Recordar que los índices en Python van desde el cero, así que el indice 1 es la segunda letra y el índice 3 = 4-1 es la cuarta letra.\")\n",
    "print(s3[1:4]) # Se imprime el string s3 desde su segunda letra hasta la cuarta. En general s3[i:j] retorna el string s3 desde la letra (o simbolo) i hasta el j-1. Recordar que los índices en Python van desde el cero, así que el indice 1 es la segunda letra y el índice 3 = 4-1 es la cuarta letra.\n",
    "print(\"\\n\")\n",
    "\n",
    "print(\"Cuenta el numero de 'n' que hay en el string\")\n",
    "print(s3.count(\"n\")) # Cuenta el numero de \"n\" que hay en el string\n",
    "print(\"\\n\")\n",
    "\n",
    "print(\"Pone todo el string en mayusculas\")\n",
    "print(s3.upper()) # Pone todo el string en mayusculas\n",
    "print(\"\\n\")\n",
    "\n",
    "print(\"Pone todo el string en minusculas\")\n",
    "print(s3.lower()) # Pone todo el string en minusculas\n",
    "print(\"\\n\")\n",
    "\n",
    "print(\"Retorna True o False dependiendo de si el string s3 empieza con el string 'Mun' \")\n",
    "print(s3.startswith(\"Mun\")) # Retorna True o False dependiendo de si el string s3 empieza con el string \"Mun\"\n",
    "print(\"\\n\")\n",
    "\n",
    "print(\"Retorna True o False dependiendo de si el string s3 termina con el string 'do' \")\n",
    "print(s3.endswith(\"do\")) # Retorna True o False dependiendo de si el string s3 termina con el string \"do\"\n",
    "print(\"\\n\")\n",
    "\n",
    "print(\"El string s5, que se compone de dos 'palabras' separadas por un espacio, se separa en una lista en donde cada componente de la lista es una de las palabras\")\n",
    "print(s5.split()) # El string s5, que se compone de dos \"palabras\" separadas por un espacio, se separa en una lista en donde cada componente de la lista es una de las palabras\n",
    "print(\"\\n\")\n",
    "\n",
    "print(\"Retorna el numero de caracteres que tiene el string s5 (el espacio se cuenta como caracter)\")\n",
    "print(len(s5)) # Retorna el numero de caracteres que tiene el string s5 (el espacio se cuenta como caracter)\n",
    "print(\"\\n\")\n",
    "\n",
    "print(\"Usar un índice negativo implica contar los caracteres de la lista de derecha a izquierda y no de izquierda a derecha como es de costumbre. De forma de s5[-1] es el último caracter del string, s5[-2] es el penúltimo, s5[-3] es el antepenúltimo y así sucesivamente\")\n",
    "print(s5[-1]) # Usar un índice negativo implica contar los caracteres de la lista de derecha a izquierda y no de izquierda a derecha como es de costumbre. De forma de s5[-1] es el último caracter del string, s5[-2] es el penúltimo, s5[-3] es el antepenúltimo y así sucesivamente.\n",
    "print(\"\\n\")\n",
    "\n",
    "\n",
    "print(s5[-3:-1]) "
   ]
  },
  {
   "source": [
    "Hay muchas más operaciones interesantes con strings, pero estas son algunas de las más usadas. Para ver más ir a https://www.learnpython.org/en/Basic_String_Operations"
   ],
   "cell_type": "markdown",
   "metadata": {}
  },
  {
   "source": [
    "### 1.3 Listas"
   ],
   "cell_type": "markdown",
   "metadata": {}
  },
  {
   "source": [
    "Una lista no es más que un conjunto de datos de todo tipo organizados bajo una misma estructura, encerrados por un par de corchetes cuadrados. Para declarar una lista basta con hacer lo siguiente:"
   ],
   "cell_type": "markdown",
   "metadata": {}
  },
  {
   "cell_type": "code",
   "execution_count": 5,
   "metadata": {
    "tags": []
   },
   "outputs": [
    {
     "output_type": "stream",
     "name": "stdout",
     "text": "[]\n[1, 2, 3, 4, 5, 6, 7, 8, 9]\n[1.2, 2.3, 3.4, 4.5, 5.6, 6.7]\n['Hola', 'Mundo', '123']\n['Hola', 1.234, 25]\n"
    }
   ],
   "source": [
    "l1 = [] # Lista vacia\n",
    "l2 = [1,2,3,4,5,6,7,8,9] # Lista de numeros enteros\n",
    "l3 = [1.2, 2.3, 3.4, 4.5, 5.6, 6.7] # Lista de numeros de punto flotante\n",
    "l4 = [\"Hola\", \"Mundo\", \"123\"] # Lista de strings\n",
    "l5 = [\"Hola\", 1.234, 25] # Lista de varios tipos de elementos\n",
    "\n",
    "print(l1)\n",
    "print(l2)\n",
    "print(l3)\n",
    "print(l4)\n",
    "print(l5)"
   ]
  },
  {
   "source": [
    "### Operaciones"
   ],
   "cell_type": "markdown",
   "metadata": {}
  },
  {
   "source": [
    "Entre las operaciones sobre listas se encuentran los siguientes:"
   ],
   "cell_type": "markdown",
   "metadata": {}
  },
  {
   "cell_type": "code",
   "execution_count": 6,
   "metadata": {
    "tags": []
   },
   "outputs": [
    {
     "output_type": "stream",
     "name": "stdout",
     "text": "['Hola', 'Mundo', '123', 'Hola', 1.234, 25]\n[2, 3, 4]\n['Gatito', 1.234, 25]\n3\n['Gatito', 1.234, 25, 12345]\n['Gatito', 1.234, 'Perrito', 25, 12345]\n['Gatito', 1.234, 'Perrito', 25]\n['Gatito', 'Perrito', 25]\n"
    }
   ],
   "source": [
    "l1 = [] # Lista vacia\n",
    "l2 = [1,2,3,4,5,6,7,8,9] # Lista de numeros enteros\n",
    "l3 = [1.2, 2.3, 3.4, 4.5, 5.6, 6.7] # Lista de numeros de punto flotante\n",
    "l4 = [\"Hola\", \"Mundo\", \"123\"] # Lista de strings\n",
    "l5 = [\"Hola\", 1.234, 25] # Lista de varios tipos de elementos\n",
    "\n",
    "print(l4 + l5) # Suma de l4 y l5. Las listas se pegan la una a la otra, como en los strings. La resta no existe entre listas\n",
    "print(l2[1:4]) # Se obtiene una nueva lista, con los elementos desde el i=1 (segundo elemento) hasta el i=3 (cuarto elemento). En general l2[i:j] retorna la lista l2 desde el elemento i hasta el j-1.\n",
    "\n",
    "l5[0] = \"Gatito\" # Se reemplaza el primero elemento (i=0) de la lista por la palabra \"Gatito\" y se imprime el resultado. No solo vale reemplazar por strings sino por cualquier tipo de datos\n",
    "print(l5)\n",
    "\n",
    "print(len(l5)) # Retorna la cantidad de elementos en la lista\n",
    "\n",
    "l5.append(12345) # Se añade en la última posicion de la lista el número 12345. Se vale no solo añadir enteros sino toda clase de datos\n",
    "print(l5)\n",
    "\n",
    "l5.insert(2,\"Perrito\") # Se añade en la posición i=2 (tercera posicion) de la lista el string \"Perrito\". Vale para cualquier tipo de dato\n",
    "print(l5)\n",
    "\n",
    "l5.pop() # Elimina el último elemento de la lista\n",
    "print(l5)\n",
    "\n",
    "l5.pop(1) # Elimina el elemento i=1 (segundo elemento de la lista)\n",
    "print(l5)"
   ]
  },
  {
   "source": [
    "Hay muchas más operaciones entre listas, pero estas son las principales. Para ver más ir a https://www.w3schools.com/python/python_lists.asp "
   ],
   "cell_type": "markdown",
   "metadata": {}
  },
  {
   "source": [
    "### 1.4 Arrays "
   ],
   "cell_type": "markdown",
   "metadata": {}
  },
  {
   "source": [
    "Los arrays hacen básicamente lo mismo que hacen las listas. La gran diferencia radica en el hecho de que los arrays pueden ser operados como si fueran vectores o matrices. Para crear un array es muy similar a crear una lista. Sin embargo como primer requisito es indispensable tener cargada la librería Numpy."
   ],
   "cell_type": "markdown",
   "metadata": {}
  },
  {
   "cell_type": "code",
   "execution_count": 7,
   "metadata": {
    "tags": []
   },
   "outputs": [
    {
     "output_type": "stream",
     "name": "stdout",
     "text": "[1 2 3 4 5 6 7 8 9]\n['Gatito' '1' 'Perrito' '2']\n[[1 2 3]\n [4 5 6]\n [7 8 9]]\n"
    }
   ],
   "source": [
    "import numpy as np # Cargar la librería Numpy bajo el pseudonimo \"np\"\n",
    "\n",
    "array_1 = np.array([1,2,3,4,5,6,7,8,9]) # Se crea un vector de numeros enteros del 1 al 9\n",
    "array_2 = np.array([\"Gatito\", 1, \"Perrito\", 2])\n",
    "array_3 = np.array([[1,2,3],[4,5,6],[7,8,9]]) # Se crea la matriz con entradas 1 2 3\n",
    "                                              #                                4 5 6\n",
    "                                              #                                7 8 9\n",
    "                                              # La matriz la creamos como un vector que contiene los vectores fila de la matriz\n",
    "                                            \n",
    "print(array_1)\n",
    "print(array_2)\n",
    "print(array_3)"
   ]
  },
  {
   "source": [
    "Así se crean arrays a partir de listas:"
   ],
   "cell_type": "markdown",
   "metadata": {}
  },
  {
   "cell_type": "code",
   "execution_count": 8,
   "metadata": {
    "tags": []
   },
   "outputs": [
    {
     "output_type": "stream",
     "name": "stdout",
     "text": "[1, 2, 3, 4, 5, 6]\n[1 2 3 4 5 6]\n"
    }
   ],
   "source": [
    "lista = [1,2,3,4,5,6]\n",
    "array = np.array(lista)\n",
    "\n",
    "print(lista)\n",
    "print(array)"
   ]
  },
  {
   "cell_type": "markdown",
   "metadata": {},
   "source": [
    "Así se crean listas a partir de arrays:"
   ]
  },
  {
   "cell_type": "code",
   "execution_count": 54,
   "metadata": {
    "tags": []
   },
   "outputs": [
    {
     "output_type": "stream",
     "name": "stdout",
     "text": "[1 2 3 4 5 6]\n[1, 2, 3, 4, 5, 6]\n"
    }
   ],
   "source": [
    "array = np.array([1, 2, 3, 4, 5, 6])\n",
    "lista = list(array)\n",
    "\n",
    "print(array)\n",
    "print(lista)"
   ]
  },
  {
   "source": [
    "### Operaciones"
   ],
   "cell_type": "markdown",
   "metadata": {}
  },
  {
   "source": [
    "Las operaciones entre arrays son las mismas que se pueden ejecutar entre vectores y matrices. Además hay otras que Numpy nos provee. Algunas son:"
   ],
   "cell_type": "markdown",
   "metadata": {}
  },
  {
   "cell_type": "code",
   "execution_count": 9,
   "metadata": {
    "tags": []
   },
   "outputs": [
    {
     "output_type": "stream",
     "name": "stdout",
     "text": "Suma vectorial entre vec1 y vec2 (suma componente a componente)\n[ 3  6  9 12 15 18 21 24 27]\n\n\nSuma matricial entre Mat1 y Mat2 (suma componente a componente)\n[[ 3  6  9]\n [12 15 18]\n [21 24 27]]\n\n\nProducto NO vectorial (no es el producto punto) entre vec1 y vec2. Este producto se llama producto de Hadamard y es un producto donde la multiplicación se hace componente a componente, retornando otro vector\n[  2   8  18  32  50  72  98 128 162]\n\n\nDivision NO vectorial entre vec1 y vec2. Esta división se llama producto de Hadamard y es una division componente a componente, retornando otro vector\n[0.5 0.5 0.5 0.5 0.5 0.5 0.5 0.5 0.5]\n\n\nSe suma una constante a todas las componentes del array, sea vector o matriz\n[[ 5.3  6.3  7.3]\n [ 8.3  9.3 10.3]\n [11.3 12.3 13.3]]\n\n\nSe multiplica una constante a todas las componentes del array, sea vector o matriz\n[[ 4.3  8.6 12.9]\n [17.2 21.5 25.8]\n [30.1 34.4 38.7]]\n\n\nProducto de Hadamard entre Mat1 y Mat2\n[[  2   8  18]\n [ 32  50  72]\n [ 98 128 162]]\n\n\nSeleccionar una parte de un vector, desde el elemento i=1 (segundo elemento) hasta el i=3 (cuarto elemento)\n[2 3]\n\n\nSeleccionar una parte de un vector, desde el primer elemento hasta el i=4 (quinto elemento). Tambien se vale vec1[0:5]\n[1 2 3 4 5]\n\n\nSeleccionar una parte de un vector, desde el elemento i=4 (quinto elemento) hasta el último\n[5 6 7 8 9]\n\n\nSeleccionar una parte de una matriz Mat3, en las filas se escoge desde la i=1 (segunda fila) hasta la i=2 (tercera fila). En columnas se escoje desde la j=0 (primera columna) hasta la j=1 (segunda columna). Tambien se vale Mat3[1:3,:2]\n[[ 5  6]\n [ 9 10]]\n\n\nSeleccionar una parte de una matriz Mat3, en las filas se escoge desde la i=2 (tercera fila) hasta la última. En columnas se escoje desde la j=0 (primera columna) hasta la última. Tambien se vale Mat3[2:,0:]\n[[ 9 10 11 12]\n [13 14 15 16]]\n\n\nSeleccionar el primer vector columna de una matriz Mat1\n[1 4 7]\n\n\nSeleccionar el segundo vector columna de una matriz Mat1\n[2 5 8]\n\n\nSeleccionar el primer vector fila de una matriz Mat1\n[1 2 3]\n\n\nSeleccionar el segundo vector fila de una matriz Mat1\n[4 5 6]\n\n\nProducto vectorial (punto) entre los vectores vec1 y vec2\n570\n\n\nProducto entre la matriz Mat1 y el vector vec3\n[1 4 7]\n\n\nProducto matricial entre las matrices Mat1 y Mat2\n[[ 60  72  84]\n [132 162 192]\n [204 252 300]]\n\n\nRetorna el tamaño de la matriz, el número de filas y el numero de columnas, respectivamente\n(3, 3) 3 3\n\n\nTranspuesta de la matriz Mat1.\n[[1 4 7]\n [2 5 8]\n [3 6 9]]\n\n\nReflejar una matriz respecto al eje horizontal que cruza por la mitad de la matriz\n[[7 8 9]\n [4 5 6]\n [1 2 3]]\n\n\nReflejar una matriz respecto al eje vertical que cruza por la mitad de la matriz\n[[3 2 1]\n [6 5 4]\n [9 8 7]]\n\n\nRotar 90 grados una matriz en sentido antihorario\n[[3 6 9]\n [2 5 8]\n [1 4 7]]\n\n\nRotar 90 grados una matriz en sentido antihorario 3 veces\n[[7 4 1]\n [8 5 2]\n [9 6 3]]\n\n\nTodas las columnas se corren una posición a la derecha (la col 0 es ahora la 1, la 1 es ahora la 2, ..., y la última se vuelve la primera)\n[[3 1 2]\n [6 4 5]\n [9 7 8]]\n\n\nTodas las columnas se corren dos posiciones a la derecha\n[[2 3 1]\n [5 6 4]\n [8 9 7]]\n\n\nTodas las filas se corren una posición hacia abajo (la fila 0 es ahora la 1, la 1 es ahora la 2, ..., y la última se vuelve la primera)\n[[7 8 9]\n [1 2 3]\n [4 5 6]]\n\n\nTodas las filas se corren dos posiciones hacia abajo\n[[4 5 6]\n [7 8 9]\n [1 2 3]]\n\n\nConvertir una matriz en vector. O sea, poner todos los elementos de una matriz pero ahora organziados en un vector\n[1 2 3 4 5 6 7 8 9]\n\n\nSumar todos los elementos dentro de un vector\n45\n\n\nPromediar todos los elementos dentro de un vector\n5.0\n\n\nSumar todos los elementos dentro de una matriz\n45\n\n\nSe obtiene un vector, cuyas componentes son las sumas de los elementos de cada vector fila\n[ 6 15 24]\n\n\nSe obtiene un vector, cuyas componentes son las sumas de los elementos de cada vector columna\n[12 15 18]\n\n\nSe obtiene un array (en este caso matriz), el cual es la suma de los arrays (en este caso matrices) contenidos en vec4\n[[ 3  6  9]\n [12 15 18]\n [21 24 27]]\n\n\nSe obtiene un vector, cuyas componentes son los promedios de los elementos de cada vector fila\n[2. 5. 8.]\n\n\nSe obtiene un vector, cuyas componentes son los promedios de los elementos de cada vector columna\n[4. 5. 6.]\n\n\nSe obtiene un array (en este caso matriz), el cual es el promedio de los arrays (en este caso matrices) contenidos en vec4\n[[ 1.5  3.   4.5]\n [ 6.   7.5  9. ]\n [10.5 12.  13.5]]\n\n\nSe obtiene el valor mínimo de un array (matriz o vector)\n1\n\n\nSe obtiene el valor máximo de un array (matriz o vector)\n9\n\n\nSe convierte el vector vec1 en una matriz de tamaño 3x3\n[[1 2 3]\n [4 5 6]\n [7 8 9]]\n\n\n"
    }
   ],
   "source": [
    "vec1 = np.array([1, 2, 3, 4, 5, 6, 7, 8, 9])\n",
    "vec2 = np.array([2, 4 , 6, 8, 10, 12, 14, 16 ,18])\n",
    "vec3 = np.array([1,0,0])\n",
    "Mat1 = np.array([[1,2,3],[4,5,6],[7,8,9]])\n",
    "Mat2 = np.array([[2,4,6],[8,10,12],[14,16,18]])\n",
    "Mat3 = np.array([[1,2,3,4],[5,6,7,8],[9,10,11,12],[13,14,15,16]])\n",
    "vec4 = np.array([Mat1,Mat2])\n",
    "\n",
    "print(\"Suma vectorial entre vec1 y vec2 (suma componente a componente)\")\n",
    "print(vec1 + vec2) # Suma vectorial entre vec1 y vec2 (suma componente a componente)\n",
    "print(\"\\n\") # Se imprime un enter para dar algo de espacio\n",
    "\n",
    "print(\"Suma matricial entre Mat1 y Mat2 (suma componente a componente)\")\n",
    "print(Mat1 + Mat2) # Suma matricial entre Mat1 y Mat2 (suma componente a componente)\n",
    "print(\"\\n\")\n",
    "\n",
    "print(\"Producto NO vectorial (no es el producto punto) entre vec1 y vec2. Este producto se llama producto de Hadamard y es un producto donde la multiplicación se hace componente a componente, retornando otro vector\")\n",
    "print(vec1*vec2) # Producto NO vectorial (no es el producto punto) entre vec1 y vec2. Este producto se llama producto de Hadamard y es un producto donde la multiplicación se hace componente a componente, retornando otro vector\n",
    "print(\"\\n\")\n",
    "\n",
    "print(\"Division NO vectorial entre vec1 y vec2. Esta división se llama división de Hadamard y es una division componente a componente, retornando otro vector\")\n",
    "print(vec1/vec2) # Division NO vectorial entre vec1 y vec2. Esta división se llama producto de Hadamard y es una division componente a componente, retornando otro vector\n",
    "print(\"\\n\")\n",
    "\n",
    "print(\"Se suma una constante a todas las componentes del array, sea vector o matriz\")\n",
    "print(Mat1 + 4.3) # Se suma una constante a todas las componentes del array, sea vector o matriz\n",
    "print(\"\\n\")\n",
    "\n",
    "print(\"Se multiplica una constante a todas las componentes del array, sea vector o matriz\")\n",
    "print(4.3*Mat1) # Se multiplica una constante a todas las componentes del array, sea vector o matriz\n",
    "print(\"\\n\")\n",
    "\n",
    "print(\"Producto de Hadamard entre Mat1 y Mat2\")\n",
    "print(Mat1*Mat2) # Producto de Hadamard entre Mat1 y Mat2\n",
    "print(\"\\n\")\n",
    "\n",
    "print(\"Seleccionar una parte de un vector, desde el elemento i=1 (segundo elemento) hasta el i=3 (cuarto elemento)\")\n",
    "print(vec1[1:3]) # Seleccionar una parte de un vector, desde el elemento i=1 (segundo elemento) hasta el i=3 (cuarto elemento)\n",
    "print(\"\\n\")\n",
    "\n",
    "print(\"Seleccionar una parte de un vector, desde el primer elemento hasta el i=4 (quinto elemento). Tambien se vale vec1[0:5]\")\n",
    "print(vec1[:5]) # Seleccionar una parte de un vector, desde el primer elemento hasta el i=4 (quinto elemento). Tambien se vale vec1[0:5]\n",
    "print(\"\\n\")\n",
    "\n",
    "print(\"Seleccionar una parte de un vector, desde el elemento i=4 (quinto elemento) hasta el último\")\n",
    "print(vec1[4:]) # Seleccionar una parte de un vector, desde el elemento i=4 (quinto elemento) hasta el último. \n",
    "print(\"\\n\")\n",
    "\n",
    "print(\"Seleccionar una parte de una matriz Mat3, en las filas se escoge desde la i=1 (segunda fila) hasta la i=2 (tercera fila). En columnas se escoje desde la j=0 (primera columna) hasta la j=1 (segunda columna). Tambien se vale Mat3[1:3,:2]\")\n",
    "print(Mat3[1:3,0:2]) # Seleccionar una parte de una matriz Mat3, en las filas se escoge desde la i=1 (segunda fila) hasta la i=2 (tercera fila). En columnas se escoje desde la j=0 (primera columna) hasta la j=1 (segunda columna). Tambien se vale Mat3[1:3,:2]\n",
    "print(\"\\n\")\n",
    "\n",
    "print(\"Seleccionar una parte de una matriz Mat3, en las filas se escoge desde la i=2 (tercera fila) hasta la última. En columnas se escoje desde la j=0 (primera columna) hasta la última. Tambien se vale Mat3[2:,0:]\")\n",
    "print(Mat3[2:,:]) # Seleccionar una parte de una matriz Mat3, en las filas se escoge desde la i=2 (tercera fila) hasta la última. En columnas se escoje desde la j=0 (primera columna) hasta la última. Tambien se vale Mat3[2:,0:]\n",
    "print(\"\\n\")\n",
    "\n",
    "print(\"Seleccionar el primer vector columna de una matriz Mat1\")\n",
    "print(Mat1[:,0]) # Seleccionar el primer vector columna de una matriz Mat1\n",
    "print(\"\\n\")\n",
    "\n",
    "print(\"Seleccionar el segundo vector columna de una matriz Mat1\")\n",
    "print(Mat1[:,1]) # Seleccionar el segundo vector columna de una matriz Mat1\n",
    "print(\"\\n\")\n",
    "\n",
    "print(\"Seleccionar el primer vector fila de una matriz Mat1\")\n",
    "print(Mat1[0,:]) # Seleccionar el primer vector fila de una matriz Mat1\n",
    "print(\"\\n\")\n",
    "\n",
    "print(\"Seleccionar el segundo vector fila de una matriz Mat1\")\n",
    "print(Mat1[1,:]) # Seleccionar el segundo vector fila de una matriz Mat1\n",
    "print(\"\\n\")\n",
    "\n",
    "print(\"Producto vectorial (punto) entre los vectores vec1 y vec2\")\n",
    "print(np.dot(vec1,vec2)) # Producto vectorial (punto) entre los vectores vec1 y vec2\n",
    "print(\"\\n\")\n",
    "\n",
    "print(\"Producto entre la matriz Mat1 y el vector vec3\")\n",
    "print(np.dot(Mat1,vec3)) # Producto entre la matriz Mat1 y el vector vec3\n",
    "print(\"\\n\")\n",
    "\n",
    "print(\"Producto matricial entre las matrices Mat1 y Mat2\")\n",
    "print(np.matmul(Mat1,Mat2)) # Producto matricial entre las matrices Mat1 y Mat2\n",
    "print(\"\\n\")\n",
    "\n",
    "print(\"Retorna el tamaño de la matriz, el número de filas y el numero de columnas, respectivamente\")\n",
    "print(np.shape(Mat1), np.shape(Mat1)[0], np.shape(Mat1)[1]) # Retorna el tamaño de la matriz, el número de filas y el numero de columnas, respectivamente\n",
    "print(\"\\n\")\n",
    "\n",
    "print(\"Transpuesta de la matriz Mat1.\")\n",
    "print(np.transpose(Mat1)) # Transpuesta de la matriz Mat1.\n",
    "print(\"\\n\")\n",
    "\n",
    "print(\"Reflejar una matriz respecto al eje horizontal que cruza por la mitad de la matriz\")\n",
    "print(np.flip(Mat1,0)) # Reflejar una matriz respecto al eje horizontal que cruza por la mitad de la matriz\n",
    "print(\"\\n\")\n",
    "\n",
    "print(\"Reflejar una matriz respecto al eje vertical que cruza por la mitad de la matriz\")\n",
    "print(np.flip(Mat1,1)) # Reflejar una matriz respecto al eje vertical que cruza por la mitad de la matriz\n",
    "print(\"\\n\")\n",
    "\n",
    "print(\"Rotar 90 grados una matriz en sentido antihorario\")\n",
    "print(np.rot90(Mat1)) # Rotar 90 grados una matriz en sentido antihorario\n",
    "print(\"\\n\")\n",
    "\n",
    "print(\"Rotar 90 grados una matriz en sentido antihorario 3 veces\")\n",
    "print(np.rot90(Mat1,3)) # Rotar 90 grados una matriz en sentido antihorario\n",
    "print(\"\\n\")\n",
    "\n",
    "print(\"Todas las columnas se corren una posición a la derecha (la col 0 es ahora la 1, la 1 es ahora la 2, ..., y la última se vuelve la primera)\")\n",
    "print(np.roll(Mat1,+1,axis=1)) # Todas las columnas se corren una posición a la derecha (la col 0 es ahora la 1, la 1 es ahora la 2, ..., y la última se vuelve la primera)\n",
    "print(\"\\n\")\n",
    "\n",
    "print(\"Todas las columnas se corren dos posiciones a la derecha\")\n",
    "print(np.roll(Mat1,+2,axis=1)) # Todas las columnas se corren dos posiciones a la derecha\n",
    "print(\"\\n\")\n",
    "\n",
    "print(\"Todas las filas se corren una posición hacia abajo (la fila 0 es ahora la 1, la 1 es ahora la 2, ..., y la última se vuelve la primera)\")\n",
    "print(np.roll(Mat1,+1,axis=0)) # Todas las filas se corren una posición hacia abajo (la fila 0 es ahora la 1, la 1 es ahora la 2, ..., y la última se vuelve la primera)\n",
    "print(\"\\n\")\n",
    "\n",
    "print(\"Todas las filas se corren dos posiciones hacia abajo\")\n",
    "print(np.roll(Mat1,+2,axis=0)) # Todas las filas se corren dos posiciones hacia abajo\n",
    "print(\"\\n\")\n",
    "\n",
    "print(\"Convertir una matriz en vector. O sea, poner todos los elementos de una matriz pero ahora organziados en un vector\")\n",
    "print(np.ravel(Mat1)) # Convertir una matriz en vector. O sea, poner todos los elementos de una matriz pero ahora organziados en un vector\n",
    "print(\"\\n\")\n",
    "\n",
    "print(\"Sumar todos los elementos dentro de un vector\")\n",
    "print(np.sum(vec1)) # Sumar todos los elementos dentro de un vector\n",
    "print(\"\\n\")\n",
    "\n",
    "print(\"Promediar todos los elementos dentro de un vector\")\n",
    "print(np.mean(vec1)) # Promediar todos los elementos dentro de un vector\n",
    "print(\"\\n\")\n",
    "\n",
    "print(\"Sumar todos los elementos dentro de una matriz\")\n",
    "print(np.sum(Mat1)) # Sumar todos los elementos dentro de una matriz\n",
    "print(\"\\n\")\n",
    "\n",
    "print(\"Se obtiene un vector, cuyas componentes son las sumas de los elementos de cada vector fila\")\n",
    "print(np.sum(Mat1, axis=1)) # Se obtiene un vector, cuyas componentes son las sumas de los elementos de cada vector fila\n",
    "print(\"\\n\")\n",
    "\n",
    "print(\"Se obtiene un vector, cuyas componentes son las sumas de los elementos de cada vector columna\")\n",
    "print(np.sum(Mat1, axis=0)) # Se obtiene un vector, cuyas componentes son las sumas de los elementos de cada vector columna\n",
    "print(\"\\n\")\n",
    "\n",
    "print(\"Se obtiene un array (en este caso matriz), el cual es la suma de los arrays (en este caso matrices) contenidos en vec4\")\n",
    "print(np.sum(vec4, axis=0)) # Se obtiene un array, el cual es la suma de los arrays (en este caso matrices) contenidos en vec4\n",
    "print(\"\\n\")\n",
    "\n",
    "print(\"Se obtiene un vector, cuyas componentes son los promedios de los elementos de cada vector fila\")\n",
    "print(np.mean(Mat1, axis=1)) # Se obtiene un vector, cuyas componentes son los promedios de los elementos de cada vector fila\n",
    "print(\"\\n\")\n",
    "\n",
    "print(\"Se obtiene un vector, cuyas componentes son los promedios de los elementos de cada vector columna\")\n",
    "print(np.mean(Mat1, axis=0)) # Se obtiene un vector, cuyas componentes son los promedios de los elementos de cada vector columna\n",
    "print(\"\\n\")\n",
    "\n",
    "print(\"Se obtiene un array (en este caso matriz), el cual es el promedio de los arrays (en este caso matrices) contenidos en vec4\")\n",
    "print(np.mean(vec4, axis=0)) # Se obtiene un array (en este caso matriz), el cual es el promedio de los arrays (en este caso matrices) contenidos en vec4\n",
    "print(\"\\n\")\n",
    "\n",
    "print(\"Se obtiene el valor mínimo de un array (matriz o vector)\")\n",
    "print(np.amin(Mat1)) # Se obtiene el valor mínimo de un array (matriz o vector)\n",
    "print(\"\\n\")\n",
    "\n",
    "print(\"Se obtiene el valor máximo de un array (matriz o vector)\")\n",
    "print(np.amax(Mat1)) # Se obtiene el valor máximo de un array (matriz o vector)\n",
    "print(\"\\n\")\n",
    "\n",
    "print(\"Se convierte el vector vec1 en una matriz de tamaño 3x3\")\n",
    "print(vec1.reshape(3,3)) # Se convierte el vector vec1 en una matriz de tamaño 3x3\n",
    "print(\"\\n\")"
   ]
  },
  {
   "source": [
    "También hay algunas formas de crear arrays bajo ciertos parámetros dados, sin necesidad de crearlos desde listas. A continuación se muestran algunos ejemplos de esto"
   ],
   "cell_type": "markdown",
   "metadata": {}
  },
  {
   "cell_type": "code",
   "execution_count": 10,
   "metadata": {
    "tags": []
   },
   "outputs": [
    {
     "output_type": "stream",
     "name": "stdout",
     "text": "Crear array (vector) con 30 elementos, que varien desde 0 hasta 20\n[ 0.          0.68965517  1.37931034  2.06896552  2.75862069  3.44827586\n  4.13793103  4.82758621  5.51724138  6.20689655  6.89655172  7.5862069\n  8.27586207  8.96551724  9.65517241 10.34482759 11.03448276 11.72413793\n 12.4137931  13.10344828 13.79310345 14.48275862 15.17241379 15.86206897\n 16.55172414 17.24137931 17.93103448 18.62068966 19.31034483 20.        ]\n\n\nCrear array (vector) de zeros con 20 elementos\n[0. 0. 0. 0. 0. 0. 0. 0. 0. 0. 0. 0. 0. 0. 0. 0. 0. 0. 0. 0.]\n\n\nCrear array (matriz) de zeros con 10x10 elementos\n[[0. 0. 0. 0. 0. 0. 0. 0. 0. 0.]\n [0. 0. 0. 0. 0. 0. 0. 0. 0. 0.]\n [0. 0. 0. 0. 0. 0. 0. 0. 0. 0.]\n [0. 0. 0. 0. 0. 0. 0. 0. 0. 0.]\n [0. 0. 0. 0. 0. 0. 0. 0. 0. 0.]\n [0. 0. 0. 0. 0. 0. 0. 0. 0. 0.]\n [0. 0. 0. 0. 0. 0. 0. 0. 0. 0.]\n [0. 0. 0. 0. 0. 0. 0. 0. 0. 0.]\n [0. 0. 0. 0. 0. 0. 0. 0. 0. 0.]\n [0. 0. 0. 0. 0. 0. 0. 0. 0. 0.]]\n\n\nCrear array (vector) de unos con 20 elementos\n[1. 1. 1. 1. 1. 1. 1. 1. 1. 1. 1. 1. 1. 1. 1. 1. 1. 1. 1. 1.]\n\n\nCrear array (matriz) de unos con 10x10 elementos\n[[1. 1. 1. 1. 1. 1. 1. 1. 1. 1.]\n [1. 1. 1. 1. 1. 1. 1. 1. 1. 1.]\n [1. 1. 1. 1. 1. 1. 1. 1. 1. 1.]\n [1. 1. 1. 1. 1. 1. 1. 1. 1. 1.]\n [1. 1. 1. 1. 1. 1. 1. 1. 1. 1.]\n [1. 1. 1. 1. 1. 1. 1. 1. 1. 1.]\n [1. 1. 1. 1. 1. 1. 1. 1. 1. 1.]\n [1. 1. 1. 1. 1. 1. 1. 1. 1. 1.]\n [1. 1. 1. 1. 1. 1. 1. 1. 1. 1.]\n [1. 1. 1. 1. 1. 1. 1. 1. 1. 1.]]\n\n\nCrear array (matriz) de numeros aleatorios entre 0 y 1 con 4x5 elementos\n[[0.96626404 0.50466247 0.48910428 0.80584827 0.28788647]\n [0.38638578 0.80437069 0.71071601 0.12198667 0.3922617 ]\n [0.50223954 0.95611732 0.78291963 0.57493204 0.81671832]\n [0.50454612 0.98821425 0.5567302  0.96318512 0.54646182]]\n\n\nCrear array vector de numeros enteros entre 0 y 9\n[0 1 2 3 4 5 6 7 8 9]\n\n\n"
    }
   ],
   "source": [
    "print(\"Crear array (vector) con 30 elementos, que varien desde 0 hasta 20: (20-0)/30\")\n",
    "print(np.linspace(0,20,30)) # Crear array con 30 elementos, que varien desde 0 hasta 20: (20-0)/30\n",
    "print(\"\\n\")\n",
    "\n",
    "print(\"Crear array (vector) de zeros con 20 elementos\")\n",
    "print(np.zeros(20)) # Crear array (vector) de zeros con 20 elementos\n",
    "print(\"\\n\")\n",
    "\n",
    "print(\"Crear array (matriz) de zeros con 10x10 elementos\")\n",
    "print(np.zeros((10,10))) # Crear array (matriz) de zeros con 10x10 elementos\n",
    "print(\"\\n\")\n",
    "\n",
    "print(\"Crear array (vector) de unos con 20 elementos\")\n",
    "print(np.ones(20)) # Crear array (vector) de unos con 20 elementos\n",
    "print(\"\\n\")\n",
    "\n",
    "print(\"Crear array (matriz) de unos con 10x10 elementos\")\n",
    "print(np.ones((10,10))) # Crear array (matriz) de unos con 10x10 elementos\n",
    "print(\"\\n\")\n",
    "\n",
    "print(\"Crear array (matriz) de numeros aleatorios entre 0 y 1 con 4x5 elementos\")\n",
    "print(np.random.rand(4,5)) # Crear array (matriz) de numeros aleatorios entre 0 y 1 con 4x5 elementos\n",
    "print(\"\\n\")\n",
    "\n",
    "print(\"Crear array vector de numeros enteros entre 0 y 9\")\n",
    "print(np.arange(10)) # Crear array vector de numeros enteros entre 0 y 9\n",
    "print(\"\\n\")"
   ]
  },
  {
   "source": [
    "También los elementos dentro de un array pueden ser convertidos todos a enteros o floats."
   ],
   "cell_type": "markdown",
   "metadata": {}
  },
  {
   "cell_type": "code",
   "execution_count": 11,
   "metadata": {
    "tags": []
   },
   "outputs": [
    {
     "output_type": "stream",
     "name": "stdout",
     "text": "Convertir todos los elementos del arr1 en floats\n[1. 2. 3. 4. 5. 6. 7.]\n\n\nConvertir todos los elementos del arr2 en enteros\n[1 2 3 4 5 6]\n\n\n"
    }
   ],
   "source": [
    "arr1 = np.array([1,2,3,4,5,6,7])\n",
    "arr2 = np.array([1.2, 2.3, 3.4, 4.5, 5.6, 6.7])\n",
    "\n",
    "print(\"Convertir todos los elementos del arr1 en floats\")\n",
    "print(arr1.astype(float)) # Convertir todos los elementos del arr1 en floats\n",
    "print(\"\\n\")\n",
    "\n",
    "print(\"Convertir todos los elementos del arr2 en enteros\")\n",
    "print(arr2.astype(int)) # Convertir todos los elementos del arr2 en enteros\n",
    "print(\"\\n\")"
   ]
  },
  {
   "source": [
    "### 1.5 Booleanos"
   ],
   "cell_type": "markdown",
   "metadata": {}
  },
  {
   "source": [
    "Los booleanos solo pueden tener dos posibles valores, que son True o False. Estos booleanos pueden ser bastante útiles al momento de manejar condicionales o ciclos. Los booleanos se pueden obtener a través de expresiones matemáticas útiles que comparen dos elementos. Algunos ejemplos se pueden mostrar a continuación:"
   ],
   "cell_type": "markdown",
   "metadata": {}
  },
  {
   "cell_type": "code",
   "execution_count": 12,
   "metadata": {
    "tags": []
   },
   "outputs": [
    {
     "output_type": "stream",
     "name": "stdout",
     "text": "Se pregunta si a es mayor que b. Claramente la respuesta tiene que ser No (False)\nFalse\n\n\nSe pregunta si a es igual que b. Claramente la respuesta tiene que ser No (False)\nFalse\n\n\nSe pregunta si a es distinto que b. Claramente la respuesta tiene que ser Si (True)\nTrue\n\n\nSe pregunta si el array vec1 es igual al array vec2. Claramente la respuesta tiene que ser No (False)\nFalse\n\n\n"
    }
   ],
   "source": [
    "a,b,c,d = 1, 2, 3.4, 4.5\n",
    "vec1 = np.array([1,2,3,4,5])\n",
    "vec2 = np.array([6,7,8,9,10])\n",
    "\n",
    "print(\"Se pregunta si a es mayor que b. Claramente la respuesta tiene que ser No (False)\")\n",
    "print(a>b) # Se pregunta si a es mayor que b. Claramente la respuesta tiene que ser No (False)\n",
    "print(\"\\n\")\n",
    "\n",
    "print(\"Se pregunta si a es igual que b. Claramente la respuesta tiene que ser No (False)\")\n",
    "print(a==b) # Se pregunta si a es igual que b. Claramente la respuesta tiene que ser No (False)\n",
    "print(\"\\n\")\n",
    "\n",
    "print(\"Se pregunta si a es distinto que b. Claramente la respuesta tiene que ser Si (True)\")\n",
    "print(a!=b) # Se pregunta si a es distinto que b. Claramente la respuesta tiene que ser Si (True)\n",
    "print(\"\\n\")\n",
    "\n",
    "print(\"Se pregunta si el array vec1 es igual al array vec2. Claramente la respuesta tiene que ser No (False)\")\n",
    "print((vec1==vec2).all()) # Se pregunta si el array vec1 es igual al array vec2. Claramente la respuesta tiene que ser No (False)\n",
    "print(\"\\n\")"
   ]
  },
  {
   "source": [
    "### Operaciones"
   ],
   "cell_type": "markdown",
   "metadata": {}
  },
  {
   "source": [
    "Las operaciones entre booleanos son las mismas operaciones entre numeros binarios. Las básicas son and y or, aunque existen más como xor, nand, nor, etc. A continuación se meustran algunos ejemplos."
   ],
   "cell_type": "markdown",
   "metadata": {}
  },
  {
   "cell_type": "code",
   "execution_count": 13,
   "metadata": {
    "tags": []
   },
   "outputs": [
    {
     "output_type": "stream",
     "name": "stdout",
     "text": "Retorna el valor de True(1) AND True(1)\nTrue\n\n\nRetorna el valor de True(1) AND False(0)\nFalse\n\n\nRetorna el valor de True(1) AND True(1)\nTrue\n\n\nRetorna el valor de True(1) OR True(1)\nTrue\n\n\nRetorna el valor de True(1) OR False(0)\nTrue\n\n\nRetorna el valor de True(1) OR True(1)\nTrue\n\n\n"
    }
   ],
   "source": [
    "a,b = True, False\n",
    "\n",
    "print(\"Retorna el valor de True(1) AND True(1)\")\n",
    "print(a and a) # Retorna el valor de True(1) AND True(1)\n",
    "print(\"\\n\")\n",
    "\n",
    "print(\"Retorna el valor de True(1) AND False(0)\")\n",
    "print(a and b) # Retorna el valor de True(1) AND False(0)\n",
    "print(\"\\n\")\n",
    "\n",
    "print(\"Retorna el valor de True(1) AND True(1)\")\n",
    "print(a & a) # Retorna el valor de True(1) AND True(1). Notar que \"and\" se puede cambiar por &\n",
    "print(\"\\n\")\n",
    "\n",
    "print(\"Retorna el valor de True(1) OR True(1)\")\n",
    "print(a or a) # Retorna el valor de True(1) OR True(1)\n",
    "print(\"\\n\")\n",
    "\n",
    "print(\"Retorna el valor de True(1) OR False(0)\")\n",
    "print(a or b) # Retorna el valor de True(1) OR False(0)\n",
    "print(\"\\n\")\n",
    "\n",
    "print(\"Retorna el valor de True(1) OR True(1)\")\n",
    "print(a | a) # Retorna el valor de True(1) OR True(1). Notar que \"or\" se puede cambiar por |\n",
    "print(\"\\n\")"
   ]
  },
  {
   "source": [
    "### 2. Funciones matemáticas en Python con Numpy"
   ],
   "cell_type": "markdown",
   "metadata": {}
  },
  {
   "source": [
    "La librería Numpy permite, además de realizar operaciones con arrays, implementar funciones y constantes matemáticas importantes. A continuación se muestra un compendio de las posibles funciones matemáticas que pueden ser implementadas con Numpy."
   ],
   "cell_type": "markdown",
   "metadata": {}
  },
  {
   "cell_type": "code",
   "execution_count": 14,
   "metadata": {
    "tags": []
   },
   "outputs": [
    {
     "output_type": "stream",
     "name": "stdout",
     "text": "pi, se obtiene el valor de pi\n3.141592653589793\n\n\ne, se obtiene el valor de la constante de euler\n2.718281828459045\n\n\nSin(x), x tiene que estar en radianes\n-0.7209845231142057\n\n\nCos(x), x tiene que estar en radianes\n-0.692951165256096\n\n\nTan(x), x tiene que estar en radianes\n1.0404550266507586\n\n\nConvertir x de grados a radianes\n0.17854718247901993\n\n\nConvertir x de radianes a grados\n586.1358244188322\n\n\nSinh(x)\n13861.255015991639\n\n\nCosh(x)\n13861.25505206341\n\n\nTanh(x)\n0.9999999973976549\n\n\nfloor(x), función piso, que manda un decimal al entero más cercano por debajo\n10.0\n\n\nceil(x), función techo, que manda un decimal al entero más cercano por arriba\n11.0\n\n\nexp(x), función exponencial\n27722.51006805505\n\n\nln(x), función log natural\n2.325324579963535\n\n\nlog_10(x), función log en base 10\n1.0098756337121602\n\n\n"
    }
   ],
   "source": [
    "import numpy as np \n",
    "\n",
    "x = 10.23\n",
    "\n",
    "print(\"pi, se obtiene el valor de pi\")\n",
    "print(np.pi)\n",
    "print(\"\\n\")\n",
    "\n",
    "print(\"e, se obtiene el valor de la constante de euler\")\n",
    "print(np.e)\n",
    "print(\"\\n\")\n",
    "\n",
    "print(\"Sin(x), x tiene que estar en radianes\")\n",
    "print(np.sin(x))\n",
    "print(\"\\n\")\n",
    "\n",
    "print(\"Cos(x), x tiene que estar en radianes\")\n",
    "print(np.cos(x))\n",
    "print(\"\\n\")\n",
    "\n",
    "print(\"Tan(x), x tiene que estar en radianes\")\n",
    "print(np.tan(x))\n",
    "print(\"\\n\")\n",
    "\n",
    "print(\"Convertir x de grados a radianes\")\n",
    "print(np.radians(x))\n",
    "print(\"\\n\")\n",
    "\n",
    "print(\"Convertir x de radianes a grados\")\n",
    "print(np.degrees(x))\n",
    "print(\"\\n\")\n",
    "\n",
    "print(\"Sinh(x)\")\n",
    "print(np.sinh(x))\n",
    "print(\"\\n\")\n",
    "\n",
    "print(\"Cosh(x)\")\n",
    "print(np.cosh(x))\n",
    "print(\"\\n\")\n",
    "\n",
    "print(\"Tanh(x)\")\n",
    "print(np.tanh(x))\n",
    "print(\"\\n\")\n",
    "\n",
    "print(\"floor(x), función piso, que manda un decimal al entero más cercano por debajo\")\n",
    "print(np.floor(x))\n",
    "print(\"\\n\")\n",
    "\n",
    "print(\"ceil(x), función techo, que manda un decimal al entero más cercano por arriba\")\n",
    "print(np.ceil(x))\n",
    "print(\"\\n\")\n",
    "\n",
    "print(\"exp(x), función exponencial\")\n",
    "print(np.exp(x))\n",
    "print(\"\\n\")\n",
    "\n",
    "print(\"ln(x), función log natural\")\n",
    "print(np.log(x))\n",
    "print(\"\\n\")\n",
    "\n",
    "print(\"log_10(x), función log en base 10\")\n",
    "print(np.log10(x))\n",
    "print(\"\\n\")"
   ]
  },
  {
   "source": [
    "Estas son solo algunas de las posibles funciones matemáticas de Numpy. Se pueden encontrar todas en https://numpy.org/doc/stable/reference/routines.math.html. Las funciones no solo se pueden aplicar a un número en específico, sino que pueden ser aplicadas a arrays completos (vectores,matrices,etc). Si se aplica una función matemática sobre un array, esta función se va a aplicar a cada una de las componentes, como se muestra a continuación:"
   ],
   "cell_type": "markdown",
   "metadata": {}
  },
  {
   "cell_type": "code",
   "execution_count": 15,
   "metadata": {
    "tags": []
   },
   "outputs": [
    {
     "output_type": "stream",
     "name": "stdout",
     "text": "theta\n[0.         0.12822827 0.25645654 0.38468481 0.51291309 0.64114136\n 0.76936963 0.8975979  1.02582617 1.15405444 1.28228272 1.41051099\n 1.53873926 1.66696753 1.7951958  1.92342407 2.05165235 2.17988062\n 2.30810889 2.43633716 2.56456543 2.6927937  2.82102197 2.94925025\n 3.07747852 3.20570679 3.33393506 3.46216333 3.5903916  3.71861988\n 3.84684815 3.97507642 4.10330469 4.23153296 4.35976123 4.48798951\n 4.61621778 4.74444605 4.87267432 5.00090259 5.12913086 5.25735913\n 5.38558741 5.51381568 5.64204395 5.77027222 5.89850049 6.02672876\n 6.15495704 6.28318531]\n\n\nSin(theta), theta tiene que estar en radianes\n[ 0.00000000e+00  1.27877162e-01  2.53654584e-01  3.75267005e-01\n  4.90717552e-01  5.98110530e-01  6.95682551e-01  7.81831482e-01\n  8.55142763e-01  9.14412623e-01  9.58667853e-01  9.87181783e-01\n  9.99486216e-01  9.95379113e-01  9.74927912e-01  9.38468422e-01\n  8.86599306e-01  8.20172255e-01  7.40277997e-01  6.48228395e-01\n  5.45534901e-01  4.33883739e-01  3.15108218e-01  1.91158629e-01\n  6.40702200e-02 -6.40702200e-02 -1.91158629e-01 -3.15108218e-01\n -4.33883739e-01 -5.45534901e-01 -6.48228395e-01 -7.40277997e-01\n -8.20172255e-01 -8.86599306e-01 -9.38468422e-01 -9.74927912e-01\n -9.95379113e-01 -9.99486216e-01 -9.87181783e-01 -9.58667853e-01\n -9.14412623e-01 -8.55142763e-01 -7.81831482e-01 -6.95682551e-01\n -5.98110530e-01 -4.90717552e-01 -3.75267005e-01 -2.53654584e-01\n -1.27877162e-01 -2.44929360e-16]\n\n\nCos(theta), theta tiene que estar en radianes\n[ 1.          0.99179001  0.96729486  0.92691676  0.8713187   0.80141362\n  0.71834935  0.6234898   0.51839257  0.40478334  0.28452759  0.1595999\n  0.03205158 -0.09602303 -0.22252093 -0.34536505 -0.46253829 -0.57211666\n -0.67230089 -0.76144596 -0.8380881  -0.90096887 -0.94905575 -0.98155916\n -0.99794539 -0.99794539 -0.98155916 -0.94905575 -0.90096887 -0.8380881\n -0.76144596 -0.67230089 -0.57211666 -0.46253829 -0.34536505 -0.22252093\n -0.09602303  0.03205158  0.1595999   0.28452759  0.40478334  0.51839257\n  0.6234898   0.71834935  0.80141362  0.8713187   0.92691676  0.96729486\n  0.99179001  1.        ]\n\n\n"
    }
   ],
   "source": [
    "theta = np.linspace(0,2*np.pi,50) # Se crea un vector (array) de 50 componentes, que tiene valores desde 0 hasta 2*pi\n",
    "\n",
    "print(\"theta\")\n",
    "print(theta)\n",
    "print(\"\\n\")\n",
    "\n",
    "print(\"Sin(theta), theta tiene que estar en radianes\")\n",
    "print(np.sin(theta))\n",
    "print(\"\\n\")\n",
    "\n",
    "print(\"Cos(theta), theta tiene que estar en radianes\")\n",
    "print(np.cos(theta))\n",
    "print(\"\\n\")\n"
   ]
  },
  {
   "source": [
    "### 3. if/for/while/break/continue"
   ],
   "cell_type": "markdown",
   "metadata": {}
  },
  {
   "source": [
    "En esta sección se discutirán los condicionales if, los ciclos for y while junto con los comandos break y continue para los ciclos. "
   ],
   "cell_type": "markdown",
   "metadata": {}
  },
  {
   "source": [
    "### 3.1 Condicionales (if)"
   ],
   "cell_type": "markdown",
   "metadata": {}
  },
  {
   "source": [
    "Los condicionales sirven para, como dice su nombre, evaluar si una condición dada se cumple o no. Supongamos que queremos comparar tres números \"a\", \"b\" y \"c\". Si \"a\" es mayor a \"b\" y \"a\" es mayor que \"c\", imprimimos la frase: \"El mayor es:\" y a continuación el número \"a\". Si \"b\" es mayor que \"a\" y \"b\" es mayor que \"c\" entonces imprimimos la frase: \"El mayor es:\" y a continuación el número \"b\". Si \"c\" es mayor a \"a\" y \"c\" es mayor que \"b\", imprimimos la frase: \"El mayor es:\" y a continuación el número \"c\". En cualquier otro caso (por ejemplo, que a=b, a=c,  b=c, etc), imprimimos la frase \"No se cumple\". Veamos cómo se implementa."
   ],
   "cell_type": "markdown",
   "metadata": {}
  },
  {
   "cell_type": "code",
   "execution_count": 55,
   "metadata": {
    "tags": []
   },
   "outputs": [
    {
     "output_type": "stream",
     "name": "stdout",
     "text": "El mayor es: 3\n"
    }
   ],
   "source": [
    "a, b, c = 1, 2, 3\n",
    "\n",
    "if((a>b) and (a>c)): # Primera condición\n",
    "    print(\"El mayor es: \" + str(a))\n",
    "elif((b>a) and (b>c)): # Segunda condición\n",
    "    print(\"El mayor es: \" + str(b))\n",
    "elif((c>a) and (c>b)): # Tercera condición\n",
    "    print(\"El mayor es: \" + str(c))\n",
    "else: # Cuarta condición, la cual es que no se cumplan las tres anteriores\n",
    "    print(\"No se cumple\")"
   ]
  },
  {
   "source": [
    "Como se observa, dado que habíamos establecido tres condiciones, hay un if para la primera condición y dos elif para las siguientes dos condiciones. Si solo se tiene una condición entonces solo se pone el if y el else. Incluso es posible escribir el if solo, sin el else. "
   ],
   "cell_type": "markdown",
   "metadata": {}
  },
  {
   "source": [
    "Otro ejemplo muy sencillo es el de encontrar un número par. Un número par es aquel cuyo módulo 2 es igual a cero. Es decir, si \"a\" es par, entonces \"a\" % 2 = 0. Esta condición se puede implementar con un if y un else. "
   ],
   "cell_type": "markdown",
   "metadata": {}
  },
  {
   "cell_type": "code",
   "execution_count": 17,
   "metadata": {
    "tags": []
   },
   "outputs": [
    {
     "output_type": "stream",
     "name": "stdout",
     "text": "No es par\n"
    }
   ],
   "source": [
    "a = 3\n",
    "\n",
    "if (a % 2 == 0): # Si a mod 2 es cero...\n",
    "    print(\"Es par\") \n",
    "else: # De otra forma...\n",
    "    print(\"No es par\")"
   ]
  },
  {
   "source": [
    "### 3.2 Bucle for"
   ],
   "cell_type": "markdown",
   "metadata": {}
  },
  {
   "source": [
    "Un for sirve usualmente para realizar un mismo prodecimiento varias veces. También sirve para usar, por ejemplo, todos los elementos de un array para cierto objetivo. A continuación se muestran varios ejemplos del uso del ciclo for. "
   ],
   "cell_type": "markdown",
   "metadata": {}
  },
  {
   "source": [
    "Si por ejemplo quiero imprimir todos los valores de un array uno por uno puedo hacer lo siguiente:"
   ],
   "cell_type": "markdown",
   "metadata": {}
  },
  {
   "cell_type": "code",
   "execution_count": 18,
   "metadata": {
    "tags": []
   },
   "outputs": [
    {
     "output_type": "stream",
     "name": "stdout",
     "text": "1\n2\ngato\nperro\n5\n"
    }
   ],
   "source": [
    "arr1 = np.array([1, 2, \"gato\", \"perro\", 5])\n",
    "\n",
    "for i in range(len(arr1)): # La variable \"i\" tomará los valores desde 0 hasta la longitud de arr1 menos uno, o sea desde 0 hasta 4, de tal forma que hay 5 índices (0,1,2,3,4) que representan cada uno de los elementos del array\n",
    "    print(arr1[i]) # Imprimimos el i-esimo elemento de arr1"
   ]
  },
  {
   "cell_type": "code",
   "execution_count": 57,
   "metadata": {
    "tags": []
   },
   "outputs": [
    {
     "output_type": "stream",
     "name": "stdout",
     "text": "1\n2\ngato\nperro\n5\n"
    }
   ],
   "source": [
    "arr1 = np.array([1, 2, \"gato\", \"perro\", 5])\n",
    "\n",
    "for i in range(0,5): # La variable \"i\" tomará los valores desde 0 hasta hasta 4, de tal forma que hay 5 índices (0,1,2,3,4) que representan cada uno de los elementos del array\n",
    "    print(arr1[i]) # Imprimimos el i-esimo elemento de arr1"
   ]
  },
  {
   "source": [
    "Se puede lograr lo mismo si en vez de recorrer indices \"i\" de 0 a 4, recorro directamente los elementos del array"
   ],
   "cell_type": "markdown",
   "metadata": {}
  },
  {
   "cell_type": "code",
   "execution_count": 19,
   "metadata": {
    "tags": []
   },
   "outputs": [
    {
     "output_type": "stream",
     "name": "stdout",
     "text": "1\n2\ngato\nperro\n5\n"
    }
   ],
   "source": [
    "arr1 = np.array([1, 2, \"gato\", \"perro\", 5])\n",
    "\n",
    "for elem in arr1: # La variable \"elem\" será cada uno de los elementos del array arr1\n",
    "    print(elem) # Imprimimos el elemento \"elem\""
   ]
  },
  {
   "source": [
    "También puedo obtener una mezcla de ambos métodos mostrados anteriormente, obteniendo directamente tanto el índice de un elemento del array como el elemento como tal:"
   ],
   "cell_type": "markdown",
   "metadata": {}
  },
  {
   "cell_type": "code",
   "execution_count": 58,
   "metadata": {
    "tags": []
   },
   "outputs": [
    {
     "output_type": "stream",
     "name": "stdout",
     "text": "0 1\n1 2\n2 gato\n3 perro\n4 5\n"
    }
   ],
   "source": [
    "arr1 = np.array([1, 2, \"gato\", \"perro\", 5])\n",
    "\n",
    "for i,elem in enumerate(arr1): # \"enumerate\" sirve para obtener al mismo tiempo el índice y el elemento\n",
    "    print(i, elem)"
   ]
  },
  {
   "source": [
    " No solo puedo recorrer vectores sino también matrices. En el caso de una matriz no puedo recorrer los elementos individuales directamente como en un vector, ya que pasa lo siguiente"
   ],
   "cell_type": "markdown",
   "metadata": {}
  },
  {
   "cell_type": "code",
   "execution_count": 21,
   "metadata": {
    "tags": []
   },
   "outputs": [
    {
     "output_type": "stream",
     "name": "stdout",
     "text": "0 [1 2 3]\n1 [4 5 6]\n2 [7 8 9]\n"
    }
   ],
   "source": [
    "Mat1 = np.array([[1,2,3],[4,5,6],[7,8,9]])\n",
    "\n",
    "for i,elem in enumerate(Mat1): \n",
    "    print(i, elem) # Obtengo indices pero no los elementos individuales, sino los vectores fila de la matriz"
   ]
  },
  {
   "source": [
    "Para recorrer los elementos individuales de la matriz correctamente se debe hacer algo como lo siguiente (Usualmente esta es la forma que yo uso):"
   ],
   "cell_type": "markdown",
   "metadata": {}
  },
  {
   "cell_type": "code",
   "execution_count": 22,
   "metadata": {
    "tags": []
   },
   "outputs": [
    {
     "output_type": "stream",
     "name": "stdout",
     "text": "0 0 1\n0 1 2\n0 2 3\n1 0 4\n1 1 5\n1 2 6\n2 0 7\n2 1 8\n2 2 9\n"
    }
   ],
   "source": [
    "for i in range(np.shape(Mat1)[0]): # Recordar que np.shape(Mat1)[0] es el numero de filas de la matriz\n",
    "    for j in range(np.shape(Mat1)[1]): #Recordar que np.shape(Mat1)[1] es el numero de columnas de la matriz\n",
    "        print(i,j,Mat1[i,j]) # Se imprime el indice i, el indice j y el correspondiente elemento (i,j) de la matriz"
   ]
  },
  {
   "source": [
    "Lo anterior también se puede lograr de la siguiente forma:"
   ],
   "cell_type": "markdown",
   "metadata": {}
  },
  {
   "cell_type": "code",
   "execution_count": 23,
   "metadata": {
    "tags": []
   },
   "outputs": [
    {
     "output_type": "stream",
     "name": "stdout",
     "text": "1\n2\n3\n4\n5\n6\n7\n8\n9\n"
    }
   ],
   "source": [
    "for fila in Mat1: # Primero se recorren las filas\n",
    "    for elemento in fila: # Luego se obtiene cada elemento de la fila llamada \"fila\"\n",
    "        print(elemento) # Se imprime cada elemento de la matriz Mat1 en orden"
   ]
  },
  {
   "source": [
    "y si se quiere hacer de la anterior manera pero obteniendo también los indices (i,j) de la matriz se puede hacer lo siguiente:"
   ],
   "cell_type": "markdown",
   "metadata": {}
  },
  {
   "cell_type": "code",
   "execution_count": 24,
   "metadata": {
    "tags": []
   },
   "outputs": [
    {
     "output_type": "stream",
     "name": "stdout",
     "text": "0 0 1\n0 1 2\n0 2 3\n1 0 4\n1 1 5\n1 2 6\n2 0 7\n2 1 8\n2 2 9\n"
    }
   ],
   "source": [
    "for i,fila in enumerate(Mat1):\n",
    "    for j,elemento in enumerate(fila):\n",
    "        print(i,j,elemento) # Se imprime el indice i, el indice j y el correspondiente elemento (i,j) de la matriz"
   ]
  },
  {
   "source": [
    "Un ejemplo donde se puede usar el ciclo for es para sumar los elementos de un array. Este se mostrará a continuación:"
   ],
   "cell_type": "markdown",
   "metadata": {}
  },
  {
   "cell_type": "code",
   "execution_count": 60,
   "metadata": {
    "tags": []
   },
   "outputs": [
    {
     "output_type": "stream",
     "name": "stdout",
     "text": "[[[ 1  2]\n  [ 3  4]]\n\n [[ 5  6]\n  [ 7  8]]\n\n [[ 9 10]\n  [11 12]]]\n\n\n[[15. 18.]\n [21. 24.]]\n"
    }
   ],
   "source": [
    "Mat1 = np.array([[1,2],[3,4]])\n",
    "Mat2 = np.array([[5,6],[7,8]])\n",
    "Mat3 = np.array([[9,10],[11,12]])\n",
    "arr1 = np.array([Mat1, Mat2, Mat3]) # Se crea un array que contiene las matrices Mat1, Mat2 y Mat3.\n",
    "\n",
    "suma = np.zeros((np.shape(Mat1)[0],np.shape(Mat1)[1])) # Se crea una matriz de ceros del mismo tamaño de Mat1 (y de Mat2 y Mat3). Esta matriz servirá para albergar el valor de la suma de Mat1, Mat2 y Mat3\n",
    "\n",
    "for matriz in arr1: # Se recorren directamente los elementos del arr1\n",
    "    suma = suma + matriz # Suma comienza como una matriz de ceros, a la que en cada paso del for se le va sumando cada matriz dentro de arr1\n",
    "\n",
    "print(arr1)\n",
    "print(\"\\n\")\n",
    "print(suma) "
   ]
  },
  {
   "source": [
    "Sin embargo, Python proporciona con sus librerías caminos más cortos para realizar la suma anterior. De hecho, para sumar los elementos de arr1 (o en general, para sumar los arrays que se encuentran dentro de otro array) basta con hacer:"
   ],
   "cell_type": "markdown",
   "metadata": {}
  },
  {
   "cell_type": "code",
   "execution_count": 26,
   "metadata": {
    "tags": []
   },
   "outputs": [
    {
     "output_type": "stream",
     "name": "stdout",
     "text": "[[15 18]\n [21 24]]\n"
    }
   ],
   "source": [
    "print(np.sum(arr1, axis=0)) # axis=0 sirve para especificar que se quieren sumar los elementos de arr1 (que es un array de arrays) horizontalmente, o sea Mat1 + Mat2 + Mat3, "
   ]
  },
  {
   "source": [
    "Así como se pueden recorrer arrays, también se pueden recorrer listas:"
   ],
   "cell_type": "markdown",
   "metadata": {}
  },
  {
   "cell_type": "code",
   "execution_count": 27,
   "metadata": {
    "tags": []
   },
   "outputs": [
    {
     "output_type": "stream",
     "name": "stdout",
     "text": "1\n2\n3\n4\n"
    }
   ],
   "source": [
    "lista = [1,2,3,4]\n",
    "\n",
    "for elem in lista: # Obtenemos cada elemento \"elem\" de la lista\n",
    "    print(elem) # Imprimimos cada elemento"
   ]
  },
  {
   "source": [
    "Una forma creativa de usar las listas junto con los ciclos for es para crear arrays. Supongamos que deseamos crear un array (vector) que contenga los multiplos de 3 menores a 20 (0,3,6,9,12,15,18). Sin usar listas, solo con el ciclo for y arrays directamente podríamos hacerlo de la siguiente forma:"
   ],
   "cell_type": "markdown",
   "metadata": {}
  },
  {
   "cell_type": "code",
   "execution_count": 28,
   "metadata": {
    "tags": []
   },
   "outputs": [
    {
     "output_type": "stream",
     "name": "stdout",
     "text": "[ 0.  3.  6.  9. 12. 15. 18.]\n"
    }
   ],
   "source": [
    "array_de_multiplos = np.zeros(7) # Creamos un array de ceros de 6 posiciones (ya que hay 6 multiplos de 3 menores a 20). Los ceros eventualmente serán reemplazados por los multiplos de 3.\n",
    "\n",
    "ind2 = 0 # Creamos un índice auxiliar para ayudar a determinar el elemento del array_de_multiplos que queremos cambiar\n",
    "for ind in range(20): # El indice \"ind\" va desde 0 hasta 19, que es justo el rango de numeros que necesitamos\n",
    "    if(ind % 3 == 0): # Si ind modulo 3 = 0 (Si ind es multiplo de 3)\n",
    "        array_de_multiplos[ind2] = ind\n",
    "        ind2 = ind2 + 1 # Al final de cada ciclo, hacemos que el valor de ind2 aumente en una unidad, de forma que tome los valores 0,1,2,3,... y así podamos rellenar ordenadamente los elementos del array_de_multiplos. \n",
    "\n",
    "print(array_de_multiplos)\n",
    "    \n"
   ]
  },
  {
   "source": [
    "Como se ve, efectivamente se logró obtener un array con los multiplos de 3 menores a 20, pero en realidad es un código muy rebuscado e inentendible que cuesta lograr hacer. En cambio, si nos ayudamos de la propiedad que tienen las listas de que pueden ser creadas como vacías y ser rellenadas poco a poco, podemos hacer el mismo código anterior de la siguiente manera:"
   ],
   "cell_type": "markdown",
   "metadata": {}
  },
  {
   "cell_type": "code",
   "execution_count": 29,
   "metadata": {
    "tags": []
   },
   "outputs": [
    {
     "output_type": "stream",
     "name": "stdout",
     "text": "[ 0  3  6  9 12 15 18]\n"
    }
   ],
   "source": [
    "lista_de_multiplos = [] # Creamos una lista vacia\n",
    "\n",
    "for ind in range(20): # El indice \"ind\" va desde 0 hasta 19, que es justo el rango de numeros que necesitamos\n",
    "    if(ind % 3 == 0): # Si ind modulo 3 = 0 (Si ind es multiplo de 3)...\n",
    "        lista_de_multiplos.append(ind) # Si se cumple la condicion, agregamos el valor de ind a la lista\n",
    "\n",
    "array_de_multiplos = np.array(lista_de_multiplos) # Convertimos la lista en array\n",
    "print(array_de_multiplos)"
   ]
  },
  {
   "source": [
    "Como se observó, no hubo necesidad ni de especificar el tamaño del array_de_multiplos ni de crear variables extra como \"ind2\" que parecían recursos complicados y mal implementados incluso. Usando listas se pueden facilitar muchas operaciones relacionadas con los arrays. "
   ],
   "cell_type": "markdown",
   "metadata": {}
  },
  {
   "source": [
    "Algo muy curioso es que también los for se pueden aplicar sobre strings, como se muestra a continuación:"
   ],
   "cell_type": "markdown",
   "metadata": {}
  },
  {
   "cell_type": "code",
   "execution_count": 30,
   "metadata": {
    "tags": []
   },
   "outputs": [
    {
     "output_type": "stream",
     "name": "stdout",
     "text": "H\no\nl\na\nM\nu\nn\nd\no\n1\n2\n3\n"
    }
   ],
   "source": [
    "string = \"HolaMundo123\" # Se define un string\n",
    "\n",
    "for letra in string: # La variable \"letra\" tomará el valor de cada una de las letras o caracteres en el string\n",
    "    print(letra) # Se imprime letra por letra en cada iteracion del for"
   ]
  },
  {
   "source": [
    "### 3.3 break y continue"
   ],
   "cell_type": "markdown",
   "metadata": {}
  },
  {
   "source": [
    "Dos utilidades interesantes que pueden ser aplicadas en bucles son los comandos break y continue. De forma muy superficial, break sirve para parar inmediatamente el bucle, mientras que continue sirve para saltarse algun paso del bucle. A continuación se muestra un ejemplo para cada uno"
   ],
   "cell_type": "markdown",
   "metadata": {}
  },
  {
   "source": [
    "### break"
   ],
   "cell_type": "markdown",
   "metadata": {}
  },
  {
   "source": [
    "El break, al igual que continue, van asociados a alguna condición que debe cumplirse. Por ejemplo. Supongamos que tenemos un array de 30 elementos, que son numeros del 1 al 20 y queremos imprimirlos todos. Sin embargo queremos que, una vez se encuentre un numero mayor a 11, el ciclo se pare y se dejen de imprimir los elementos del array. Esto se puede lograr de la siguiente manera"
   ],
   "cell_type": "markdown",
   "metadata": {}
  },
  {
   "cell_type": "code",
   "execution_count": 31,
   "metadata": {
    "tags": []
   },
   "outputs": [
    {
     "output_type": "stream",
     "name": "stdout",
     "text": "[ 1.          1.65517241  2.31034483  2.96551724  3.62068966  4.27586207\n  4.93103448  5.5862069   6.24137931  6.89655172  7.55172414  8.20689655\n  8.86206897  9.51724138 10.17241379 10.82758621 11.48275862 12.13793103\n 12.79310345 13.44827586 14.10344828 14.75862069 15.4137931  16.06896552\n 16.72413793 17.37931034 18.03448276 18.68965517 19.34482759 20.        ]\n\n\n1.0\n1.6551724137931034\n2.310344827586207\n2.9655172413793105\n3.6206896551724137\n4.275862068965517\n4.931034482758621\n5.586206896551724\n6.241379310344827\n6.896551724137931\n7.551724137931034\n8.206896551724139\n8.862068965517242\n9.517241379310345\n10.172413793103448\n10.827586206896552\n"
    }
   ],
   "source": [
    "arr = np.linspace(1,20,30) # Array con 30 componentes, con números que van del 1 al 20\n",
    "print(arr) # Se imprime el array\n",
    "print(\"\\n\")\n",
    "\n",
    "for elem in arr: # elem toma el valor de cada uno de los elementos de array llamado \"arr\"\n",
    "    if(elem>11): # Si el elemento dentro del array es mayor a 11...\n",
    "        break # ...Termine el ciclo for\n",
    "    else: # Sino...\n",
    "        print(elem) # ...lo imprime"
   ]
  },
  {
   "source": [
    "Como se observa, efectivamente solo los números menores a 11 que se encontraban dentro del array fueron impresos. Una vez que Python encontró un numero mayor o igual a 11, se detuvo el ciclo for y se dejaron de imprimir los componentes del array."
   ],
   "cell_type": "markdown",
   "metadata": {}
  },
  {
   "source": [
    "### continue"
   ],
   "cell_type": "markdown",
   "metadata": {}
  },
  {
   "source": [
    "En el caso de continue, este sirve cuando se quieran pasar por alto ciertas cosas dada una condición. Por ejemplo, supongamos que tenemos un array de 30 elementos, que son numeros del 1 al 20 y queremos imprimirlos todos. Sin embargo queremos que se pasen por alto los numeros entre 10 y 15 al momento de imprimir cada elemento del array. Esto se puede lograr de la siguiente manera:"
   ],
   "cell_type": "markdown",
   "metadata": {}
  },
  {
   "cell_type": "code",
   "execution_count": 32,
   "metadata": {
    "tags": []
   },
   "outputs": [
    {
     "output_type": "stream",
     "name": "stdout",
     "text": "[ 1.          1.65517241  2.31034483  2.96551724  3.62068966  4.27586207\n  4.93103448  5.5862069   6.24137931  6.89655172  7.55172414  8.20689655\n  8.86206897  9.51724138 10.17241379 10.82758621 11.48275862 12.13793103\n 12.79310345 13.44827586 14.10344828 14.75862069 15.4137931  16.06896552\n 16.72413793 17.37931034 18.03448276 18.68965517 19.34482759 20.        ]\n\n\n1.0\n1.6551724137931034\n2.310344827586207\n2.9655172413793105\n3.6206896551724137\n4.275862068965517\n4.931034482758621\n5.586206896551724\n6.241379310344827\n6.896551724137931\n7.551724137931034\n8.206896551724139\n8.862068965517242\n9.517241379310345\n15.413793103448276\n16.06896551724138\n16.724137931034484\n17.379310344827587\n18.03448275862069\n18.689655172413794\n19.344827586206897\n20.0\n"
    }
   ],
   "source": [
    "arr = np.linspace(1,20,30) # Array con 30 componentes, con números que van del 1 al 20\n",
    "print(arr) # Se imprime el array\n",
    "print(\"\\n\")\n",
    "\n",
    "for elem in arr: # elem toma el valor de cada uno de los elementos de array llamado \"arr\"\n",
    "    if(elem>=10 and elem <=15): # Si el elemento dentro del array es mayor o igual a 10 y menor o igual a 15...\n",
    "        continue # ...paselo por alto\n",
    "    else: # Sino...\n",
    "        print(elem) # ...lo imprime"
   ]
  },
  {
   "source": [
    "Como se observa, efectivamente solo los números menores a 15 y mayores a 10 que se encontraban dentro del array no fueron impresos. Una vez que Python encontró un numero mayor a 10 o menor a 15, el ciclo for los ignoró y paso de largo sin tenerlos en cuenta."
   ],
   "cell_type": "markdown",
   "metadata": {}
  },
  {
   "source": [
    "Personalmente no he usado casi nunca (o nunca) break y continue. Sin embargo es bueno saber que existen."
   ],
   "cell_type": "markdown",
   "metadata": {}
  },
  {
   "source": [
    "### 3.4 Bucle while"
   ],
   "cell_type": "markdown",
   "metadata": {}
  },
  {
   "source": [
    "Otro tipo de bucle es el bucle while. Este bucle siempre se asocia con una condición, sobre la cual corre. Por ejemplo, supongamos que quiero rellenar una lista con numeros enteros desde el 0 hasta el 20. Esto se puede lograr con un while de la siguiente manera:"
   ],
   "cell_type": "markdown",
   "metadata": {}
  },
  {
   "cell_type": "code",
   "execution_count": 33,
   "metadata": {
    "tags": []
   },
   "outputs": [
    {
     "output_type": "stream",
     "name": "stdout",
     "text": "[0, 1, 2, 3, 4, 5, 6, 7, 8, 9, 10, 11, 12, 13, 14, 15, 16, 17, 18, 19, 20]\n"
    }
   ],
   "source": [
    "ind = 0 # Primero se crea un indice\n",
    "lista = [] # Creamos una lista vacía que vamos a ir rellenando\n",
    "\n",
    "while (ind<=20): # Mientras el indice sea menor o igual a 20...\n",
    "    lista.append(ind) # Agregamos el indice \"ind\" a la lista\n",
    "    ind = ind + 1 # En cada iteración del while se le va sumando una unidad al indice \"ind\" para que este vaya cambiando de valor. Esto no se hace automáticamente como en el for. \n",
    "\n",
    "print(lista)"
   ]
  },
  {
   "source": [
    "Generalmente lo más usado es el ciclo for. Sin embargo también es bueno saber que existen otros bucles o ciclos, como while."
   ],
   "cell_type": "markdown",
   "metadata": {}
  },
  {
   "source": [
    "### 4. Funciones "
   ],
   "cell_type": "markdown",
   "metadata": {}
  },
  {
   "source": [
    "Una función sirve para agrupar distintas acciones que se pueden hacer sobre ciertas variables. Siguen las mismas reglas que una función matemática: tienen ciertas variables de entrada que pueden producir otras variables de salida. Un ejemplo de una función sencilla puede ser el siguiente:"
   ],
   "cell_type": "markdown",
   "metadata": {}
  },
  {
   "cell_type": "code",
   "execution_count": 34,
   "metadata": {
    "tags": []
   },
   "outputs": [
    {
     "output_type": "stream",
     "name": "stdout",
     "text": "15.3\n"
    }
   ],
   "source": [
    "def suma(a,b): # Definimos una función llamada suma, cuyos parámetros de entrada son a y b\n",
    "    resultado = a+b\n",
    "    return resultado # La salida será el resultado de la suma de a y b\n",
    "\n",
    "x = 5.2 # Definimos dos numeros\n",
    "y = 10.1\n",
    "\n",
    "print(suma(x,y)) # Imprimimos la suma de x con y"
   ]
  },
  {
   "source": [
    "Las entradas y salidas de una función no solo se limitan a ser netamente números, sino que pueden ser cualquier tipo de variable:"
   ],
   "cell_type": "markdown",
   "metadata": {}
  },
  {
   "cell_type": "code",
   "execution_count": 35,
   "metadata": {
    "tags": []
   },
   "outputs": [
    {
     "output_type": "stream",
     "name": "stdout",
     "text": "Funcion suma aplicada a dos vectores\n[ 6  8 10 12]\n\n\nFuncion suma aplicada a dos matrices\n[[ 3  6  9]\n [12 15 18]\n [21 24 27]]\n\n\nFuncion suma aplicada a dos listas\n[1, 2, 3, 4, 5, 6, 7, 8]\n\n\nFuncion suma aplicada a dos strings\nHolaMundo\n\n\n"
    }
   ],
   "source": [
    "vec1 = np.array([1,2,3,4])\n",
    "vec2 = np.array([5,6,7,8])\n",
    "Mat1 = np.array([[1,2,3],[4,5,6],[7,8,9]])\n",
    "Mat2 = np.array([[2,4,6],[8,10,12],[14,16,18]])\n",
    "list1 = [1,2,3,4]\n",
    "list2 = [5,6,7,8]\n",
    "str1 = \"Hola\"\n",
    "str2 = \"Mundo\"\n",
    "\n",
    "print(\"Funcion suma aplicada a dos vectores\")\n",
    "print(suma(vec1,vec2))\n",
    "print(\"\\n\")\n",
    "\n",
    "print(\"Funcion suma aplicada a dos matrices\")\n",
    "print(suma(Mat1,Mat2))\n",
    "print(\"\\n\")\n",
    "\n",
    "print(\"Funcion suma aplicada a dos listas\")\n",
    "print(suma(list1,list2))\n",
    "print(\"\\n\")\n",
    "\n",
    "print(\"Funcion suma aplicada a dos strings\")\n",
    "print(suma(str1,str2))\n",
    "print(\"\\n\")"
   ]
  },
  {
   "source": [
    "Otro ejemplo de algo que podemos convertir en una función es el ejemplo que se dió para explicar el condicional (if). El ejemplo pretendía encontrar el mayor de tres números y era el siguiente:"
   ],
   "cell_type": "markdown",
   "metadata": {}
  },
  {
   "cell_type": "code",
   "execution_count": 36,
   "metadata": {
    "tags": []
   },
   "outputs": [
    {
     "output_type": "stream",
     "name": "stdout",
     "text": "El mayor es:3\n"
    }
   ],
   "source": [
    "a,b,c = 1,2,3\n",
    "\n",
    "if((a>b) and (a>c)): # Primera condición\n",
    "    print(\"El mayor es: \" + str(a))\n",
    "elif((b>a) and (b>c)): # Segunda condición\n",
    "    print(\"El mayor es: \" + str(b))\n",
    "elif((c>a) and (c>b)): # Tercera condición\n",
    "    print(\"El mayor es: \" + str(c))\n",
    "else: # Cuarta condición, la cual es que no se cumplan las tres anteriores\n",
    "    print(\"No se cumple\")"
   ]
  },
  {
   "source": [
    "Podemos introducir estos condicionales en una función para que no solo funcionen para valores de \"a\",\"b\" y \"c\" previamente definidos sino para cualesquiera valores. Esto se hace de la siguiente manera:"
   ],
   "cell_type": "markdown",
   "metadata": {}
  },
  {
   "cell_type": "code",
   "execution_count": 37,
   "metadata": {
    "tags": []
   },
   "outputs": [
    {
     "output_type": "stream",
     "name": "stdout",
     "text": "El mayor es:7\n7\n"
    }
   ],
   "source": [
    "def mayor(a,b,c): # Definimos una función llamada \"mayor\" que tiene como parámetros de entrada tres numeros a,b y c\n",
    "    if((a>b) and (a>c)): # Primera condición\n",
    "        return \"El mayor es: \" + str(a), a # Se retorna un mensaje (string), como también el numero a \n",
    "    elif((b>a) and (b>c)): # Segunda condición\n",
    "        return \"El mayor es: \" + str(b), b # Se retorna un mensaje (string), como también el numero b\n",
    "    elif((c>a) and (c>b)): # Tercera condición\n",
    "        return \"El mayor es: \" + str(c), c # Se retorna un mensaje (string), como también el numero c\n",
    "    else: # Cuarta condición, la cual es que no se cumplan las tres anteriores\n",
    "        return \"No se cumple\", 0 # Se retorna un mensaje (string), como también un número, que es cero. \n",
    "\n",
    "mensaje, numero = mayor(3,7,1) # Dado que la función tiene dos salidas, nosotros podemos obtener ambas salidas como se muestra acá. La primera salida de la fucnión se guarda en la variable \"mensaje\" y la segunda se guarda en la variable \"numero\"\n",
    "\n",
    "print(mensaje)\n",
    "print(numero)"
   ]
  },
  {
   "source": [
    "En el caso anterior, los parámetros de entrada de la función son tres numeros a,b y c. Por otra parte, las salidas de la función son dos: la primera es un string y la segunda alguno de los tres números (o cero). Cada una de estas salidas se pueden obtener de forma separada como se muestra en los comentarios del código. "
   ],
   "cell_type": "markdown",
   "metadata": {}
  },
  {
   "source": [
    "Otro ejemplo sencillo que se puede realizar con una función es el siguiente. Supongamos que queremos tener una función que haga que los números pares dentro de una matriz se conviertan en cero. Esto se puede lograr de la siguiente manera:"
   ],
   "cell_type": "markdown",
   "metadata": {}
  },
  {
   "cell_type": "code",
   "execution_count": 38,
   "metadata": {
    "tags": []
   },
   "outputs": [
    {
     "output_type": "stream",
     "name": "stdout",
     "text": "Imprimimos matriz original\n[[1 2 3]\n [4 5 6]\n [7 8 9]]\n\n\nImprimimos matriz modificada\n[[1 0 3]\n [0 5 0]\n [7 0 9]]\n\n\n"
    }
   ],
   "source": [
    "def pares_a_cero(Mat1): # Definimos una funcion que tiene como parametro de entrada la matriz\n",
    "    matriz = np.copy(Mat1) # Creamos una copia de la matriz de entrada, para que la matriz original no sea afectada. Si quiero que la matriz original cambie simplemente omito este paso\n",
    "    for i in range(np.shape(matriz)[0]): # Recorremos las filas de la matriz\n",
    "        for j in range(np.shape(matriz)[1]): # Recorremos las columnas de la matriz\n",
    "            if (matriz[i,j] % 2 == 0): # Si la componente (i,j) de la matriz es un numero par...\n",
    "                matriz[i,j] = 0 # ...convertimos esa componente (i,j) de la matriz en cero\n",
    "\n",
    "    return matriz\n",
    "\n",
    "Mat1 = np.array([[1,2,3],[4,5,6],[7,8,9]]) # Creamos una matriz \n",
    "Mat1_nueva = pares_a_cero(Mat1) # Aplicamos la función a la matriz y la matriz resultante la llamo Mat1_nueva\n",
    "\n",
    "print(\"Imprimimos matriz original\")\n",
    "print(Mat1)\n",
    "print(\"\\n\")\n",
    "\n",
    "print(\"Imprimimos matriz modificada\")\n",
    "print(Mat1_nueva)\n",
    "print(\"\\n\")"
   ]
  },
  {
   "source": [
    "Si quiero que la matriz original sea modificada basta con hacer lo siguiente:"
   ],
   "cell_type": "markdown",
   "metadata": {}
  },
  {
   "cell_type": "code",
   "execution_count": 39,
   "metadata": {
    "tags": []
   },
   "outputs": [
    {
     "output_type": "stream",
     "name": "stdout",
     "text": "Imprimimos matriz original\n[[1 2 3]\n [4 5 6]\n [7 8 9]]\n\n\nImprimimos matriz modificada\n[[1 0 3]\n [0 5 0]\n [7 0 9]]\n\n\n"
    }
   ],
   "source": [
    "def pares_a_cero(matriz): # Definimos una funcion que tiene como parametro de entrada la matriz\n",
    "    for i in range(np.shape(matriz)[0]): # Recorremos las filas de la matriz\n",
    "        for j in range(np.shape(matriz)[1]): # Recorremos las columnas de la matriz\n",
    "            if (matriz[i,j] % 2 == 0): # Si la componente (i,j) de la matriz es un numero par...\n",
    "                matriz[i,j] = 0 # ...convertimos esa componente (i,j) de la matriz en cero\n",
    "    # Podemos no retornar nada, es válido. Lo único que haría esta función sería modificar la matriz y ya, sin obtener ninguna salida\n",
    "\n",
    "Mat1 = np.array([[1,2,3],[4,5,6],[7,8,9]]) # Creamos una matriz \n",
    "\n",
    "print(\"Imprimimos matriz original\")\n",
    "print(Mat1)\n",
    "print(\"\\n\")\n",
    "\n",
    "pares_a_cero(Mat1) # Aplicamos la función a la matriz. \n",
    "\n",
    "print(\"Imprimimos matriz modificada\")\n",
    "print(Mat1)\n",
    "print(\"\\n\")"
   ]
  },
  {
   "source": [
    "### 5. Recursividad"
   ],
   "cell_type": "markdown",
   "metadata": {}
  },
  {
   "source": [
    "Se entiende por recursividad como la acción de usar una función dentro de ella misma. Se usa generalmente cuando se quieren resolver ecuaciones en variables discretas. El ejemplo más representativo en el que se usa recursividad es en la secuencia de Fibonacci. Esta dice que el n-ésimo termino de la secuencia, que podemos representar como f(n), está definido como:\n",
    "\n",
    "f(n) = f(n-1) + f(n-2)\n",
    "\n",
    "donde f(0) = 0 y f(1) = 1. Un ejemplo de la implementación de funciones y recursividad para encontrar el n-esimo numero de Fibonacci se muestraa continuación:"
   ],
   "cell_type": "markdown",
   "metadata": {}
  },
  {
   "cell_type": "code",
   "execution_count": 40,
   "metadata": {
    "tags": []
   },
   "outputs": [
    {
     "output_type": "stream",
     "name": "stdout",
     "text": "55\n"
    }
   ],
   "source": [
    "def fibonacci(n): # Se define la función \"fibonacci\", cuyo parámetro de entrada es el indice n, ya que queremos encontrar el n-ésimo numero de Fibonacci\n",
    "    if(n == 0): # Si n = 0...\n",
    "        f_n = 0 # f(n) = 0 \n",
    "    elif(n == 1): # Si n = 1...\n",
    "        f_n = 1 # f(n) = 1\n",
    "    else: # Para cualquier otro valor de n...\n",
    "        f_n = fibonacci(n-1) + fibonacci(n-2) # usamos la formula. Notar que estamos usando la función dentro de su propia definición. Esto es recursividad\n",
    "    \n",
    "    return f_n # La salida de la función será el n-esimo numero de fibonacci\n",
    "\n",
    "print(fibonacci(10)) # Imprimimos el valor del n-esimo numero de fibonacci, para un determinado valor de n."
   ]
  },
  {
   "source": [
    "La recursividad no solo sirve para solucionar la ecuación que determina los números de Fibonacci, sino cualquier ecuación discreta. Supongamos que queremos solucionar la ecuación \n",
    "\n",
    "f(n) = 5*f(n-1) + 6*f(n-2)\n",
    "\n",
    "con las condiciones iniciales f(0) = 1, f(1) = 2. La implementación de la solución de esta ecuacion para encontrar f(n) es:"
   ],
   "cell_type": "markdown",
   "metadata": {}
  },
  {
   "cell_type": "code",
   "execution_count": 41,
   "metadata": {
    "tags": []
   },
   "outputs": [
    {
     "output_type": "stream",
     "name": "stdout",
     "text": "17\n"
    }
   ],
   "source": [
    "def solucionador_discreto(n): \n",
    "    if(n == 0): # Si n = 0...\n",
    "        f_n = 2 # f(n) = 2 \n",
    "    elif(n == 1): # Si n = 1...\n",
    "        f_n = 1 # f(n) = 3\n",
    "    else: # Para cualquier otro valor de n...\n",
    "        f_n = 5*solucionador_discreto(n-1) + 6*solucionador_discreto(n-2) # usamos la formula. Notar que estamos usando la función dentro de su propia definición. Esto es recursividad\n",
    "    \n",
    "    return f_n # La salida de la función será f(n)\n",
    "\n",
    "print(solucionador_discreto(2)) # Imprimimos el valor del n-esimo numero de fibonacci, para un determinado valor de n."
   ]
  },
  {
   "source": [
    "### 6. Cargar archivos de texto externos"
   ],
   "cell_type": "markdown",
   "metadata": {}
  },
  {
   "source": [
    "Hay distintas formas de cargar un archivo de texto externo. La manera en que carguemos un archivo depende del formato que este tenga. En la carpeta que contiene este archivo hay dos archivos de texto. Uno con datos netamente numéricos distribuidos en forma de matriz 8x8 (llamado matriz.txt) y otro con tres columnas de datos en donde incluso hay algunos que faltan (llamado documento_generico.txt). Para el primer archivo basta con hacer lo siguiente:"
   ],
   "cell_type": "markdown",
   "metadata": {}
  },
  {
   "cell_type": "code",
   "execution_count": 42,
   "metadata": {
    "tags": []
   },
   "outputs": [
    {
     "output_type": "stream",
     "name": "stdout",
     "text": "[[ 1.  2.  3.  4.  5.  6.  7.  8.]\n [ 8.  7.  6.  5.  4.  3.  2.  1.]\n [10.  9.  8.  7.  6. 11. 12. 13.]\n [98. 76. 45. 32. 98. 76. 34. 12.]\n [ 1. 23. 45. 21. 34. 56. 32. 12.]\n [32. 43. 54. 65. 76. 86. 98. 12.]\n [23. 45. 14. 62. 75. 35. 65. 13.]\n [12. 31. 56. 16. 43. 23. 78. 97.]]\n<class 'numpy.ndarray'>\n"
    }
   ],
   "source": [
    "matriz = np.genfromtxt(\"matriz.txt\") # Cargamos la matriz de datos dentro del txt a través del comando np.genfromtxt(). Por dentro de este comando se pone el nombre del archivo txt\n",
    "print(matriz) # Se imprime la matriz\n",
    "print(type(matriz)) # Se imprime el tipo de dato asociado a la variable \"matriz\""
   ]
  },
  {
   "source": [
    "Como se observa, solo basta con np.genfromtxt(\"matriz.txt\") para cargar los datos desde el txt. De hecho, de una vez Python a través de este comando guarda la matriz como un array, que ya está listo para ser modificado, graficado, etc. Ahora intentemos hacer lo mismo para el otro archivo de texto."
   ],
   "cell_type": "markdown",
   "metadata": {}
  },
  {
   "cell_type": "code",
   "execution_count": 43,
   "metadata": {},
   "outputs": [
    {
     "output_type": "error",
     "ename": "ValueError",
     "evalue": "Some errors were detected !\n    Line #3 (got 2 columns instead of 3)\n    Line #4 (got 2 columns instead of 3)\n    Line #5 (got 1 columns instead of 3)\n    Line #7 (got 1 columns instead of 3)",
     "traceback": [
      "\u001b[1;31m---------------------------------------------------------------------------\u001b[0m",
      "\u001b[1;31mValueError\u001b[0m                                Traceback (most recent call last)",
      "\u001b[1;32m<ipython-input-43-6b4059129484>\u001b[0m in \u001b[0;36m<module>\u001b[1;34m\u001b[0m\n\u001b[1;32m----> 1\u001b[1;33m \u001b[0mdatos\u001b[0m \u001b[1;33m=\u001b[0m \u001b[0mnp\u001b[0m\u001b[1;33m.\u001b[0m\u001b[0mgenfromtxt\u001b[0m\u001b[1;33m(\u001b[0m\u001b[1;34m\"documento_generico.txt\"\u001b[0m\u001b[1;33m)\u001b[0m\u001b[1;33m\u001b[0m\u001b[1;33m\u001b[0m\u001b[0m\n\u001b[0m\u001b[0;32m      2\u001b[0m \u001b[0mprint\u001b[0m\u001b[1;33m(\u001b[0m\u001b[0mdatos\u001b[0m\u001b[1;33m)\u001b[0m\u001b[1;33m\u001b[0m\u001b[1;33m\u001b[0m\u001b[0m\n",
      "\u001b[1;32m~\\anaconda3\\lib\\site-packages\\numpy\\lib\\npyio.py\u001b[0m in \u001b[0;36mgenfromtxt\u001b[1;34m(fname, dtype, comments, delimiter, skip_header, skip_footer, converters, missing_values, filling_values, usecols, names, excludelist, deletechars, replace_space, autostrip, case_sensitive, defaultfmt, unpack, usemask, loose, invalid_raise, max_rows, encoding)\u001b[0m\n\u001b[0;32m   2101\u001b[0m             \u001b[1;31m# Raise an exception ?\u001b[0m\u001b[1;33m\u001b[0m\u001b[1;33m\u001b[0m\u001b[1;33m\u001b[0m\u001b[0m\n\u001b[0;32m   2102\u001b[0m             \u001b[1;32mif\u001b[0m \u001b[0minvalid_raise\u001b[0m\u001b[1;33m:\u001b[0m\u001b[1;33m\u001b[0m\u001b[1;33m\u001b[0m\u001b[0m\n\u001b[1;32m-> 2103\u001b[1;33m                 \u001b[1;32mraise\u001b[0m \u001b[0mValueError\u001b[0m\u001b[1;33m(\u001b[0m\u001b[0merrmsg\u001b[0m\u001b[1;33m)\u001b[0m\u001b[1;33m\u001b[0m\u001b[1;33m\u001b[0m\u001b[0m\n\u001b[0m\u001b[0;32m   2104\u001b[0m             \u001b[1;31m# Issue a warning ?\u001b[0m\u001b[1;33m\u001b[0m\u001b[1;33m\u001b[0m\u001b[1;33m\u001b[0m\u001b[0m\n\u001b[0;32m   2105\u001b[0m             \u001b[1;32melse\u001b[0m\u001b[1;33m:\u001b[0m\u001b[1;33m\u001b[0m\u001b[1;33m\u001b[0m\u001b[0m\n",
      "\u001b[1;31mValueError\u001b[0m: Some errors were detected !\n    Line #3 (got 2 columns instead of 3)\n    Line #4 (got 2 columns instead of 3)\n    Line #5 (got 1 columns instead of 3)\n    Line #7 (got 1 columns instead of 3)"
     ]
    }
   ],
   "source": [
    "datos = np.genfromtxt(\"documento_generico.txt\")\n",
    "print(datos)"
   ]
  },
  {
   "source": [
    "Como se observa, si intentamos cargar los datos de la forma en que lo hicimos anteriormente se presenta un error. Esto es porque \"documento_generico.txt\" no tiene la misma cantidad de datos por fila. Es decir, hay algunas filas con dos datos, otras con uno y otras con 3, de forma que por eso se produce el error. Sin embargo no necesariamente debemos rendirnos por esto, ya que hay otras formas de leer estos archivos. La más genérica y que más he usado es la siguiente:"
   ],
   "cell_type": "markdown",
   "metadata": {}
  },
  {
   "cell_type": "code",
   "execution_count": 44,
   "metadata": {
    "tags": []
   },
   "outputs": [
    {
     "output_type": "stream",
     "name": "stdout",
     "text": "['momento posicion energia\\n', '1 2 3\\n', '4 5 \\n', '6 7\\n', '8\\n', '9 10 11\\n', '23 \\n', '21 10 23\\n', '90 87 62']\n"
    }
   ],
   "source": [
    "datos = open(\"documento_generico.txt\", \"r\") # Abrimos el archivo con open(). Como primer parámetro ponemos el nombre del archivo y el segundo indica lo que se quiere hacer con el archivo (en este caso \"r\" significa \"read\").\n",
    "lineas = datos.readlines() # Guardamos cada una de las lineas del archivo en una lista llamada lineas, que se obtiene al hacer datos.readlines()\n",
    "print(lineas)"
   ]
  },
  {
   "source": [
    "Ahora, para separar cada dato de cada linea usamos el comando split() (que se explicó en las operaciones que se hacen sobre strings). Esto lo hacemos de la siguiente manera:"
   ],
   "cell_type": "markdown",
   "metadata": {
    "tags": []
   }
  },
  {
   "cell_type": "code",
   "execution_count": 45,
   "metadata": {
    "tags": []
   },
   "outputs": [
    {
     "output_type": "stream",
     "name": "stdout",
     "text": "[['momento', 'posicion', 'energia'], ['1', '2', '3'], ['4', '5'], ['6', '7'], ['8'], ['9', '10', '11'], ['23'], ['21', '10', '23'], ['90', '87', '62']]\n"
    }
   ],
   "source": [
    "lineas_con_datos_separados = [] # Creamos una lista vacía que contendrá cada una de las líneas del archivo, pero no con todos los datos de una misma fila agrupados en un solo string sino separados.\n",
    "\n",
    "for linea in lineas: # Recorremos cada linea del archivo\n",
    "    linea_con_datos_separados = linea.split() # Separamos los datos que se encuentran en una misma linea (fila) separados por un espacio y los agrupamos en una lista\n",
    "    lineas_con_datos_separados.append(linea_con_datos_separados) # Agregamos a la lista las lineas con los datos ya separados\n",
    "\n",
    "print(lineas_con_datos_separados) "
   ]
  },
  {
   "source": [
    "Como se puede observar, ya los datos de cada linea se encuentran separados, agrupados en listas. Si queremos obtener la primera columna de datos basta con hacer:"
   ],
   "cell_type": "markdown",
   "metadata": {}
  },
  {
   "cell_type": "code",
   "execution_count": 46,
   "metadata": {
    "tags": []
   },
   "outputs": [
    {
     "output_type": "stream",
     "name": "stdout",
     "text": "['momento', '1', '4', '6', '8', '9', '23', '21', '90']\n"
    }
   ],
   "source": [
    "primera_columna = []  # Creamos una lista vacía que contendrá los datos de la primera columna\n",
    "\n",
    "for linea in lineas_con_datos_separados: # Recorremos la lista que contiene las lineas(filas) del archivo ya con lso datos separados y agrupados en listas\n",
    "    primer_dato_de_la_linea = linea[0] # Obtenemos el primer dato de cada linea, que es el que pertenece a la primera columna de los datos\n",
    "    primera_columna.append(primer_dato_de_la_linea) # Añadimos a la lista de la priemra columna el primer dato de cada linea\n",
    "\n",
    "print(primera_columna)"
   ]
  },
  {
   "source": [
    "Ahora, si queremos solo tener la primera columna sin el primer dato pro ejemplo (que es un título) entonces haríamos lo siguiente:"
   ],
   "cell_type": "markdown",
   "metadata": {}
  },
  {
   "cell_type": "code",
   "execution_count": 47,
   "metadata": {
    "tags": []
   },
   "outputs": [
    {
     "output_type": "stream",
     "name": "stdout",
     "text": "['1', '4', '6', '8', '9', '23', '21', '90']\n"
    }
   ],
   "source": [
    "primera_columna = primera_columna[1:] # Redefinimos la primera columna, como la primera columna desde el segundo dato (i=1) hasta el último\n",
    "print(primera_columna)"
   ]
  },
  {
   "source": [
    "Si nos damos cuenta, los componentes de la primera columna son strings, aunque deberían ser números. En ese paso podemos hacer lo siguiente:"
   ],
   "cell_type": "markdown",
   "metadata": {}
  },
  {
   "cell_type": "code",
   "execution_count": 48,
   "metadata": {
    "tags": []
   },
   "outputs": [
    {
     "output_type": "stream",
     "name": "stdout",
     "text": "[ 1.  4.  6.  8.  9. 23. 21. 90.]\n"
    }
   ],
   "source": [
    "primera_columna = np.array(primera_columna) # Redefinimos la primera columna, como ella misma pero ahora convertida en un array\n",
    "primera_columna = primera_columna.astype(float) # Redefinimos la primera columna, como ella misma pero con sus datos ya no como strings sino como floats, por ejemplo.\n",
    "print(primera_columna)"
   ]
  },
  {
   "source": [
    "Ya con la columna convertida en array (vector) y con valores numéricos claros, podemos usarla para hacer operaciones, modificarla, etc. "
   ],
   "cell_type": "markdown",
   "metadata": {}
  },
  {
   "source": [
    "Las anteriores son las dos formas más comunes de cargar archivos."
   ],
   "cell_type": "markdown",
   "metadata": {}
  },
  {
   "source": [
    "### 7. Guardar arrays"
   ],
   "cell_type": "markdown",
   "metadata": {}
  },
  {
   "source": [
    "Hay una forma bastante sencilla de guardar un array en un archivo de texto. Esto se hace de la sigueinte manera:"
   ],
   "cell_type": "markdown",
   "metadata": {}
  },
  {
   "cell_type": "code",
   "execution_count": 49,
   "metadata": {},
   "outputs": [],
   "source": [
    "Mat1 = np.array([[1,2,3],[4,5,6],[7,8,9]]) # Creamos una matriz\n",
    "np.savetxt(\"archivo.txt\", Mat1) # La guardamos. Primero ponemos el nombre que queremos darle al archivo, luego ponemos el array que queremos poner."
   ]
  },
  {
   "source": [
    "Si en vez de guardar una matriz queremos por ejemplo guardar filas de datos (vectores fila uno abajo del otro), hacemos lo siguiente:"
   ],
   "cell_type": "markdown",
   "metadata": {}
  },
  {
   "cell_type": "code",
   "execution_count": 50,
   "metadata": {},
   "outputs": [],
   "source": [
    "vec1 = np.array([1,2,3,4,5,6,7,8,9])\n",
    "vec2 = np.array([9,8,7,6,5,4,3,2,1])\n",
    "vec3 = np.array([1,3,5,7,9,2,4,6,8])\n",
    "\n",
    "np.savetxt(\"archivo_2.txt\",(vec1,vec2,vec3))"
   ]
  },
  {
   "source": [
    "Si en vez de guardar filas de datos queremos guardar los arrays como vectores columna (vectores columnas una al lado de la otra), hacemos lo siguiente:"
   ],
   "cell_type": "markdown",
   "metadata": {}
  },
  {
   "cell_type": "code",
   "execution_count": 51,
   "metadata": {},
   "outputs": [],
   "source": [
    "vec1 = np.array([1,2,3,4,5,6,7,8,9])\n",
    "vec2 = np.array([9,8,7,6,5,4,3,2,1])\n",
    "vec3 = np.array([1,3,5,7,9,2,4,6,8])\n",
    "\n",
    "np.savetxt(\"archivo_3.txt\",np.transpose((vec1,vec2,vec3)))"
   ]
  },
  {
   "cell_type": "code",
   "execution_count": null,
   "metadata": {},
   "outputs": [],
   "source": []
  }
 ]
}